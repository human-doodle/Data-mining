{
 "cells": [
  {
   "cell_type": "code",
   "execution_count": 1,
   "id": "df755dd7",
   "metadata": {},
   "outputs": [],
   "source": [
    "import pandas as pd\n",
    "import numpy as np\n",
    "import folium as fl\n",
    "import matplotlib.pyplot as plt\n",
    "import seaborn as sns\n",
    "from sklearn.preprocessing import LabelEncoder\n"
   ]
  },
  {
   "cell_type": "code",
   "execution_count": 2,
   "id": "58cd9b77",
   "metadata": {},
   "outputs": [],
   "source": [
    "# conda install folium"
   ]
  },
  {
   "cell_type": "markdown",
   "id": "296fa1f7",
   "metadata": {},
   "source": [
    "# PROBLEM 1"
   ]
  },
  {
   "cell_type": "markdown",
   "id": "3196c9f2",
   "metadata": {},
   "source": [
    "## Question 1\n",
    "\n",
    "What is the distribution of attribute income among different education levels? Does it show that\n",
    "highly educated adults have higher incomes? Use proper data handling for the education attribute.\n",
    "Write the R or Python code in the box below."
   ]
  },
  {
   "cell_type": "code",
   "execution_count": 300,
   "id": "9d21513d",
   "metadata": {},
   "outputs": [
    {
     "data": {
      "text/html": [
       "<div>\n",
       "<style scoped>\n",
       "    .dataframe tbody tr th:only-of-type {\n",
       "        vertical-align: middle;\n",
       "    }\n",
       "\n",
       "    .dataframe tbody tr th {\n",
       "        vertical-align: top;\n",
       "    }\n",
       "\n",
       "    .dataframe thead th {\n",
       "        text-align: right;\n",
       "    }\n",
       "</style>\n",
       "<table border=\"1\" class=\"dataframe\">\n",
       "  <thead>\n",
       "    <tr style=\"text-align: right;\">\n",
       "      <th></th>\n",
       "      <th>age</th>\n",
       "      <th>workclass</th>\n",
       "      <th>fnlwgt</th>\n",
       "      <th>education</th>\n",
       "      <th>educational-num</th>\n",
       "      <th>marital-status</th>\n",
       "      <th>occupation</th>\n",
       "      <th>relationship</th>\n",
       "      <th>race</th>\n",
       "      <th>gender</th>\n",
       "      <th>capital-gain</th>\n",
       "      <th>capital-loss</th>\n",
       "      <th>hours-per-week</th>\n",
       "      <th>native-country</th>\n",
       "      <th>income</th>\n",
       "    </tr>\n",
       "  </thead>\n",
       "  <tbody>\n",
       "    <tr>\n",
       "      <th>0</th>\n",
       "      <td>25</td>\n",
       "      <td>Private</td>\n",
       "      <td>226802</td>\n",
       "      <td>11th</td>\n",
       "      <td>7</td>\n",
       "      <td>Never-married</td>\n",
       "      <td>Machine-op-inspct</td>\n",
       "      <td>Own-child</td>\n",
       "      <td>Black</td>\n",
       "      <td>Male</td>\n",
       "      <td>0</td>\n",
       "      <td>0</td>\n",
       "      <td>40</td>\n",
       "      <td>United-States</td>\n",
       "      <td>&lt;=50K</td>\n",
       "    </tr>\n",
       "    <tr>\n",
       "      <th>1</th>\n",
       "      <td>38</td>\n",
       "      <td>Private</td>\n",
       "      <td>89814</td>\n",
       "      <td>HS-grad</td>\n",
       "      <td>9</td>\n",
       "      <td>Married-civ-spouse</td>\n",
       "      <td>Farming-fishing</td>\n",
       "      <td>Husband</td>\n",
       "      <td>White</td>\n",
       "      <td>Male</td>\n",
       "      <td>0</td>\n",
       "      <td>0</td>\n",
       "      <td>50</td>\n",
       "      <td>United-States</td>\n",
       "      <td>&lt;=50K</td>\n",
       "    </tr>\n",
       "    <tr>\n",
       "      <th>2</th>\n",
       "      <td>28</td>\n",
       "      <td>Local-gov</td>\n",
       "      <td>336951</td>\n",
       "      <td>Assoc-acdm</td>\n",
       "      <td>12</td>\n",
       "      <td>Married-civ-spouse</td>\n",
       "      <td>Protective-serv</td>\n",
       "      <td>Husband</td>\n",
       "      <td>White</td>\n",
       "      <td>Male</td>\n",
       "      <td>0</td>\n",
       "      <td>0</td>\n",
       "      <td>40</td>\n",
       "      <td>United-States</td>\n",
       "      <td>&gt;50K</td>\n",
       "    </tr>\n",
       "    <tr>\n",
       "      <th>3</th>\n",
       "      <td>44</td>\n",
       "      <td>Private</td>\n",
       "      <td>160323</td>\n",
       "      <td>Some-college</td>\n",
       "      <td>10</td>\n",
       "      <td>Married-civ-spouse</td>\n",
       "      <td>Machine-op-inspct</td>\n",
       "      <td>Husband</td>\n",
       "      <td>Black</td>\n",
       "      <td>Male</td>\n",
       "      <td>7688</td>\n",
       "      <td>0</td>\n",
       "      <td>40</td>\n",
       "      <td>United-States</td>\n",
       "      <td>&gt;50K</td>\n",
       "    </tr>\n",
       "    <tr>\n",
       "      <th>4</th>\n",
       "      <td>18</td>\n",
       "      <td>?</td>\n",
       "      <td>103497</td>\n",
       "      <td>Some-college</td>\n",
       "      <td>10</td>\n",
       "      <td>Never-married</td>\n",
       "      <td>?</td>\n",
       "      <td>Own-child</td>\n",
       "      <td>White</td>\n",
       "      <td>Female</td>\n",
       "      <td>0</td>\n",
       "      <td>0</td>\n",
       "      <td>30</td>\n",
       "      <td>United-States</td>\n",
       "      <td>&lt;=50K</td>\n",
       "    </tr>\n",
       "  </tbody>\n",
       "</table>\n",
       "</div>"
      ],
      "text/plain": [
       "   age  workclass  fnlwgt     education  educational-num      marital-status  \\\n",
       "0   25    Private  226802          11th                7       Never-married   \n",
       "1   38    Private   89814       HS-grad                9  Married-civ-spouse   \n",
       "2   28  Local-gov  336951    Assoc-acdm               12  Married-civ-spouse   \n",
       "3   44    Private  160323  Some-college               10  Married-civ-spouse   \n",
       "4   18          ?  103497  Some-college               10       Never-married   \n",
       "\n",
       "          occupation relationship   race  gender  capital-gain  capital-loss  \\\n",
       "0  Machine-op-inspct    Own-child  Black    Male             0             0   \n",
       "1    Farming-fishing      Husband  White    Male             0             0   \n",
       "2    Protective-serv      Husband  White    Male             0             0   \n",
       "3  Machine-op-inspct      Husband  Black    Male          7688             0   \n",
       "4                  ?    Own-child  White  Female             0             0   \n",
       "\n",
       "   hours-per-week native-country income  \n",
       "0              40  United-States  <=50K  \n",
       "1              50  United-States  <=50K  \n",
       "2              40  United-States   >50K  \n",
       "3              40  United-States   >50K  \n",
       "4              30  United-States  <=50K  "
      ]
     },
     "execution_count": 300,
     "metadata": {},
     "output_type": "execute_result"
    }
   ],
   "source": [
    "df = pd.read_csv(\"census_data/census_income_data.csv\")\n",
    "df.head()"
   ]
  },
  {
   "cell_type": "code",
   "execution_count": 290,
   "id": "25946831",
   "metadata": {},
   "outputs": [
    {
     "name": "stdout",
     "output_type": "stream",
     "text": [
      "<class 'pandas.core.frame.DataFrame'>\n",
      "RangeIndex: 48842 entries, 0 to 48841\n",
      "Data columns (total 15 columns):\n",
      " #   Column           Non-Null Count  Dtype \n",
      "---  ------           --------------  ----- \n",
      " 0   age              48842 non-null  int64 \n",
      " 1   workclass        48842 non-null  object\n",
      " 2   fnlwgt           48842 non-null  int64 \n",
      " 3   education        48842 non-null  object\n",
      " 4   educational-num  48842 non-null  int64 \n",
      " 5   marital-status   48842 non-null  object\n",
      " 6   occupation       48842 non-null  object\n",
      " 7   relationship     48842 non-null  object\n",
      " 8   race             48842 non-null  object\n",
      " 9   gender           48842 non-null  object\n",
      " 10  capital-gain     48842 non-null  int64 \n",
      " 11  capital-loss     48842 non-null  int64 \n",
      " 12  hours-per-week   48842 non-null  int64 \n",
      " 13  native-country   48842 non-null  object\n",
      " 14  income           48842 non-null  object\n",
      "dtypes: int64(6), object(9)\n",
      "memory usage: 5.6+ MB\n"
     ]
    }
   ],
   "source": [
    "df.info()"
   ]
  },
  {
   "cell_type": "code",
   "execution_count": 163,
   "id": "e0cafeff",
   "metadata": {},
   "outputs": [
    {
     "data": {
      "text/plain": [
       "<=50K    37155\n",
       ">50K     11687\n",
       "Name: income, dtype: int64"
      ]
     },
     "execution_count": 163,
     "metadata": {},
     "output_type": "execute_result"
    }
   ],
   "source": [
    "df['income'].value_counts()"
   ]
  },
  {
   "cell_type": "code",
   "execution_count": 164,
   "id": "17c7ed12",
   "metadata": {},
   "outputs": [
    {
     "data": {
      "text/plain": [
       "HS-grad         15784\n",
       "Some-college    10878\n",
       "Bachelors        8025\n",
       "Masters          2657\n",
       "Assoc-voc        2061\n",
       "11th             1812\n",
       "Assoc-acdm       1601\n",
       "10th             1389\n",
       "7th-8th           955\n",
       "Prof-school       834\n",
       "9th               756\n",
       "12th              657\n",
       "Doctorate         594\n",
       "5th-6th           509\n",
       "1st-4th           247\n",
       "Preschool          83\n",
       "Name: education, dtype: int64"
      ]
     },
     "execution_count": 164,
     "metadata": {},
     "output_type": "execute_result"
    }
   ],
   "source": [
    "df['education'].value_counts()"
   ]
  },
  {
   "cell_type": "code",
   "execution_count": 293,
   "id": "6ea12397",
   "metadata": {},
   "outputs": [
    {
     "data": {
      "image/png": "[encoded data removed]",
      "text/plain": [
       "<Figure size 720x432 with 1 Axes>"
      ]
     },
     "metadata": {},
     "output_type": "display_data"
    }
   ],
   "source": [
    "plt.figure(figsize=(10,6))\n",
    "sns.countplot(x='education', hue='income', data=df)\n",
    "plt.xlabel(\"Education Level\")\n",
    "plt.ylabel(\"Count\")\n",
    "plt.title(\"Income Distribution by Education Level\")\n",
    "plt.xticks(rotation=90)\n",
    "plt.show()"
   ]
  },
  {
   "cell_type": "markdown",
   "id": "b2719284",
   "metadata": {},
   "source": [
    "We notice from the graph that the highly educated people have more chances of having higher salaries than others. \n",
    "Example for Doctorate level, the percentage of people earning more than 50K income is larger. More than 50 Percent of people who did Masters, Doctorate and Prof-school are earning more than income. "
   ]
  },
  {
   "cell_type": "markdown",
   "id": "8e4d123c",
   "metadata": {},
   "source": [
    "## Question 2"
   ]
  },
  {
   "cell_type": "markdown",
   "id": "5ecc2d6f",
   "metadata": {},
   "source": [
    "List and show the distribution of occupations from which adults earned more than 50K even after\n",
    "working less than or equal to 40 hours per week? What kind of education level does it require? Write\n",
    "the R or Python code in the box below"
   ]
  },
  {
   "cell_type": "code",
   "execution_count": 166,
   "id": "8d05992b",
   "metadata": {},
   "outputs": [
    {
     "data": {
      "text/html": [
       "<div>\n",
       "<style scoped>\n",
       "    .dataframe tbody tr th:only-of-type {\n",
       "        vertical-align: middle;\n",
       "    }\n",
       "\n",
       "    .dataframe tbody tr th {\n",
       "        vertical-align: top;\n",
       "    }\n",
       "\n",
       "    .dataframe thead th {\n",
       "        text-align: right;\n",
       "    }\n",
       "</style>\n",
       "<table border=\"1\" class=\"dataframe\">\n",
       "  <thead>\n",
       "    <tr style=\"text-align: right;\">\n",
       "      <th></th>\n",
       "      <th>age</th>\n",
       "      <th>workclass</th>\n",
       "      <th>fnlwgt</th>\n",
       "      <th>education</th>\n",
       "      <th>educational-num</th>\n",
       "      <th>marital-status</th>\n",
       "      <th>occupation</th>\n",
       "      <th>relationship</th>\n",
       "      <th>race</th>\n",
       "      <th>gender</th>\n",
       "      <th>capital-gain</th>\n",
       "      <th>capital-loss</th>\n",
       "      <th>hours-per-week</th>\n",
       "      <th>native-country</th>\n",
       "      <th>income</th>\n",
       "    </tr>\n",
       "  </thead>\n",
       "  <tbody>\n",
       "    <tr>\n",
       "      <th>2</th>\n",
       "      <td>28</td>\n",
       "      <td>Local-gov</td>\n",
       "      <td>336951</td>\n",
       "      <td>Assoc-acdm</td>\n",
       "      <td>12</td>\n",
       "      <td>Married-civ-spouse</td>\n",
       "      <td>Protective-serv</td>\n",
       "      <td>Husband</td>\n",
       "      <td>White</td>\n",
       "      <td>Male</td>\n",
       "      <td>0</td>\n",
       "      <td>0</td>\n",
       "      <td>40</td>\n",
       "      <td>United-States</td>\n",
       "      <td>&gt;50K</td>\n",
       "    </tr>\n",
       "    <tr>\n",
       "      <th>3</th>\n",
       "      <td>44</td>\n",
       "      <td>Private</td>\n",
       "      <td>160323</td>\n",
       "      <td>Some-college</td>\n",
       "      <td>10</td>\n",
       "      <td>Married-civ-spouse</td>\n",
       "      <td>Machine-op-inspct</td>\n",
       "      <td>Husband</td>\n",
       "      <td>Black</td>\n",
       "      <td>Male</td>\n",
       "      <td>7688</td>\n",
       "      <td>0</td>\n",
       "      <td>40</td>\n",
       "      <td>United-States</td>\n",
       "      <td>&gt;50K</td>\n",
       "    </tr>\n",
       "    <tr>\n",
       "      <th>7</th>\n",
       "      <td>63</td>\n",
       "      <td>Self-emp-not-inc</td>\n",
       "      <td>104626</td>\n",
       "      <td>Prof-school</td>\n",
       "      <td>15</td>\n",
       "      <td>Married-civ-spouse</td>\n",
       "      <td>Prof-specialty</td>\n",
       "      <td>Husband</td>\n",
       "      <td>White</td>\n",
       "      <td>Male</td>\n",
       "      <td>3103</td>\n",
       "      <td>0</td>\n",
       "      <td>32</td>\n",
       "      <td>United-States</td>\n",
       "      <td>&gt;50K</td>\n",
       "    </tr>\n",
       "    <tr>\n",
       "      <th>10</th>\n",
       "      <td>65</td>\n",
       "      <td>Private</td>\n",
       "      <td>184454</td>\n",
       "      <td>HS-grad</td>\n",
       "      <td>9</td>\n",
       "      <td>Married-civ-spouse</td>\n",
       "      <td>Machine-op-inspct</td>\n",
       "      <td>Husband</td>\n",
       "      <td>White</td>\n",
       "      <td>Male</td>\n",
       "      <td>6418</td>\n",
       "      <td>0</td>\n",
       "      <td>40</td>\n",
       "      <td>United-States</td>\n",
       "      <td>&gt;50K</td>\n",
       "    </tr>\n",
       "    <tr>\n",
       "      <th>30</th>\n",
       "      <td>46</td>\n",
       "      <td>State-gov</td>\n",
       "      <td>106444</td>\n",
       "      <td>Some-college</td>\n",
       "      <td>10</td>\n",
       "      <td>Married-civ-spouse</td>\n",
       "      <td>Exec-managerial</td>\n",
       "      <td>Husband</td>\n",
       "      <td>Black</td>\n",
       "      <td>Male</td>\n",
       "      <td>7688</td>\n",
       "      <td>0</td>\n",
       "      <td>38</td>\n",
       "      <td>United-States</td>\n",
       "      <td>&gt;50K</td>\n",
       "    </tr>\n",
       "  </tbody>\n",
       "</table>\n",
       "</div>"
      ],
      "text/plain": [
       "    age         workclass  fnlwgt     education  educational-num  \\\n",
       "2    28         Local-gov  336951    Assoc-acdm               12   \n",
       "3    44           Private  160323  Some-college               10   \n",
       "7    63  Self-emp-not-inc  104626   Prof-school               15   \n",
       "10   65           Private  184454       HS-grad                9   \n",
       "30   46         State-gov  106444  Some-college               10   \n",
       "\n",
       "        marital-status         occupation relationship   race gender  \\\n",
       "2   Married-civ-spouse    Protective-serv      Husband  White   Male   \n",
       "3   Married-civ-spouse  Machine-op-inspct      Husband  Black   Male   \n",
       "7   Married-civ-spouse     Prof-specialty      Husband  White   Male   \n",
       "10  Married-civ-spouse  Machine-op-inspct      Husband  White   Male   \n",
       "30  Married-civ-spouse    Exec-managerial      Husband  Black   Male   \n",
       "\n",
       "    capital-gain  capital-loss  hours-per-week native-country income  \n",
       "2              0             0              40  United-States   >50K  \n",
       "3           7688             0              40  United-States   >50K  \n",
       "7           3103             0              32  United-States   >50K  \n",
       "10          6418             0              40  United-States   >50K  \n",
       "30          7688             0              38  United-States   >50K  "
      ]
     },
     "execution_count": 166,
     "metadata": {},
     "output_type": "execute_result"
    }
   ],
   "source": [
    "list_of_values = [\">50K\",\">=50K\"]\n",
    "df2 = df[df[\"income\"].isin(list_of_values)]\n",
    "df2 = df2[df2[\"hours-per-week\"]<=40]\n",
    "df2.head()"
   ]
  },
  {
   "cell_type": "code",
   "execution_count": 92,
   "id": "78c8b935",
   "metadata": {},
   "outputs": [
    {
     "data": {
      "image/png": "[encoded data removed]",
      "text/plain": [
       "<Figure size 432x288 with 1 Axes>"
      ]
     },
     "metadata": {
      "needs_background": "light"
     },
     "output_type": "display_data"
    }
   ],
   "source": [
    "plt.hist(df2['education'])\n",
    "plt.xlabel(\"Education Level\")\n",
    "plt.ylabel(\"Count\")\n",
    "plt.title(\"Education Distribution from which adults earned more than 50K even after working less than or equal to 40 hours per week\")\n",
    "plt.xticks(rotation=90)\n",
    "plt.show()"
   ]
  },
  {
   "cell_type": "markdown",
   "id": "d4b53689",
   "metadata": {},
   "source": [
    "People with bachelor degree more likely earn more than 50k anf work less than 40 hours."
   ]
  },
  {
   "cell_type": "code",
   "execution_count": 167,
   "id": "96dac7e3",
   "metadata": {},
   "outputs": [
    {
     "data": {
      "text/plain": [
       "Prof-specialty       1429\n",
       "Exec-managerial      1149\n",
       "Craft-repair          812\n",
       "Sales                 577\n",
       "Adm-clerical          567\n",
       "Tech-support          296\n",
       "Machine-op-inspct     247\n",
       "Transport-moving      202\n",
       "?                     195\n",
       "Protective-serv       179\n",
       "Other-service         138\n",
       "Name: occupation, dtype: int64"
      ]
     },
     "execution_count": 167,
     "metadata": {},
     "output_type": "execute_result"
    }
   ],
   "source": [
    "# Count the number of occurrences of each occupation\n",
    "occ = df2[\"occupation\"].value_counts().sort_values(ascending=False)\n",
    "occ.head(11)"
   ]
  },
  {
   "cell_type": "code",
   "execution_count": 168,
   "id": "44b87ba1",
   "metadata": {},
   "outputs": [
    {
     "data": {
      "image/png": "[encoded data removed]",
      "text/plain": [
       "<Figure size 936x720 with 1 Axes>"
      ]
     },
     "metadata": {},
     "output_type": "display_data"
    }
   ],
   "source": [
    "# Occupation Distribution from which adults earned more than 50K \n",
    "# even after working less than or equal to 40 hours per week\n",
    "\n",
    "# Plot the bar plot\n",
    "plt.bar(occ.index, occ.values)\n",
    "plt.xlabel(\"Occupation\")\n",
    "plt.ylabel(\"Count\")\n",
    "plt.title(\"Occupation Distribution from which adults earned more than 50K even after working less than or equal to 40 hours per week\")\n",
    "plt.xticks(rotation=90)\n",
    "plt.show()"
   ]
  },
  {
   "cell_type": "markdown",
   "id": "5711257c",
   "metadata": {},
   "source": [
    "Foloowing are the top 10 occupation where Occupation Distribution from which adults earned more than 50K \n",
    "even after working less than or equal to 40 hours per week\n",
    "Prof-specialty       1429\n",
    "Exec-managerial      1149\n",
    "Craft-repair          812\n",
    "Sales                 577\n",
    "Adm-clerical          567\n",
    "Tech-support          296\n",
    "Machine-op-inspct     247\n",
    "Transport-moving      202\n",
    "Protective-serv       179\n",
    "Other-service         138"
   ]
  },
  {
   "cell_type": "markdown",
   "id": "df79ffc0",
   "metadata": {},
   "source": [
    "## Question 3"
   ]
  },
  {
   "cell_type": "markdown",
   "id": "d3cbd215",
   "metadata": {},
   "source": [
    "Male adults earned more than female adults during the time the census was taken”. Can you prove\n",
    "this statement with the given data? Why or why not? Describe and illustrate. Write the R or Python\n",
    "code in the box below."
   ]
  },
  {
   "cell_type": "code",
   "execution_count": 122,
   "id": "7e0136c4",
   "metadata": {},
   "outputs": [
    {
     "data": {
      "text/plain": [
       "Male      32650\n",
       "Female    16192\n",
       "Name: gender, dtype: int64"
      ]
     },
     "execution_count": 122,
     "metadata": {},
     "output_type": "execute_result"
    }
   ],
   "source": [
    "num_gender = df['gender'].value_counts()\n",
    "num_gender"
   ]
  },
  {
   "cell_type": "code",
   "execution_count": 116,
   "id": "946c48c9",
   "metadata": {},
   "outputs": [
    {
     "data": {
      "image/png": "[encoded data removed]",
      "text/plain": [
       "<Figure size 864x432 with 1 Axes>"
      ]
     },
     "metadata": {
      "needs_background": "light"
     },
     "output_type": "display_data"
    }
   ],
   "source": [
    "plt.figure(figsize=(12,6))\n",
    "sns.countplot(x='gender', hue='income', data=df)\n",
    "plt.xlabel(\"Gender \")\n",
    "plt.ylabel(\"Count\")\n",
    "plt.title(\"Income Distribution by Gender \")\n",
    "plt.xticks(rotation=90)\n",
    "plt.show()"
   ]
  },
  {
   "cell_type": "code",
   "execution_count": 119,
   "id": "e3e127c4",
   "metadata": {},
   "outputs": [
    {
     "data": {
      "image/png": "[encoded data removed]",
      "text/plain": [
       "<Figure size 864x432 with 2 Axes>"
      ]
     },
     "metadata": {},
     "output_type": "display_data"
    }
   ],
   "source": [
    "# To make more sense of the data, we plot a pie chart\n",
    "# Calculate the percentage of males and females with different income levels\n",
    "df_gender_income = df.groupby(['gender', 'income']).size().reset_index(name='counts')\n",
    "df_gender_income['percentage'] = 100 * df_gender_income['counts'] / df_gender_income['counts'].sum()\n",
    "\n",
    "# Plot the pie chart for males and females with different income levels\n",
    "plt.figure(figsize=(12,6))\n",
    "for i, gender in enumerate(['Male', 'Female']):\n",
    "    plt.subplot(1, 2, i+1)\n",
    "    plt.pie(df_gender_income[df_gender_income['gender'] == gender]['percentage'], labels=df_gender_income[df_gender_income['gender'] == gender]['income'], autopct='%1.1f%%')\n",
    "    plt.title(gender)\n",
    "\n",
    "plt.show()"
   ]
  },
  {
   "cell_type": "markdown",
   "id": "21b0ae62",
   "metadata": {},
   "source": [
    "The histogram gives us the distribution of income with respect to genders, but the number of males and females are different (Male    -  32650, Female -   16192), placing it on a relative scale. \n",
    "So to find out if Male adults earned more than female adults during the time the census was taken, We plot a pie chart depicting the percentage of each gender correspongin to different income group. We notice that Females adults indeed earn less than male adults during the time census was conducted, with only 10.9% of the females esrning more tahn 50K versus 30.4% men earning more than 50K."
   ]
  },
  {
   "cell_type": "markdown",
   "id": "a888f2ed",
   "metadata": {},
   "source": [
    "## Question 4"
   ]
  },
  {
   "cell_type": "markdown",
   "id": "0a4a1174",
   "metadata": {},
   "source": [
    "Use box plots to show and describe the relation of categorical attributes with the target attribute\n",
    "income. Note: As income is a categorical attribute, be mindful about how you can display the\n",
    "relations in a compact manner"
   ]
  },
  {
   "cell_type": "code",
   "execution_count": 302,
   "id": "0e41eb7d",
   "metadata": {},
   "outputs": [
    {
     "data": {
      "image/png": "[encoded data removed]",
      "text/plain": [
       "<Figure size 936x720 with 1 Axes>"
      ]
     },
     "metadata": {},
     "output_type": "display_data"
    }
   ],
   "source": [
    "# le = LabelEncoder()\n",
    "# # Select the columns you want to encode\n",
    "# cols = df.columns\n",
    "\n",
    "# # Apply the encoding to multiple columns\n",
    "# df[cols] = df[cols].apply(lambda col: le.fit_transform(col))\n",
    "\n",
    "# box_cols = df.columns.tolist()[:-2]\n",
    "box_cols = ['age']\n",
    "\n",
    "for i in box_cols:\n",
    "  sns.boxplot(x=df[i],y=df.income)\n",
    "  plt.show()"
   ]
  },
  {
   "cell_type": "markdown",
   "id": "49f71f8a",
   "metadata": {},
   "source": [
    "# PROBLEM 2"
   ]
  },
  {
   "cell_type": "code",
   "execution_count": 3,
   "id": "7133f577",
   "metadata": {},
   "outputs": [
    {
     "data": {
      "text/html": [
       "<div>\n",
       "<style scoped>\n",
       "    .dataframe tbody tr th:only-of-type {\n",
       "        vertical-align: middle;\n",
       "    }\n",
       "\n",
       "    .dataframe tbody tr th {\n",
       "        vertical-align: top;\n",
       "    }\n",
       "\n",
       "    .dataframe thead th {\n",
       "        text-align: right;\n",
       "    }\n",
       "</style>\n",
       "<table border=\"1\" class=\"dataframe\">\n",
       "  <thead>\n",
       "    <tr style=\"text-align: right;\">\n",
       "      <th></th>\n",
       "      <th>INCIDENT_NUMBER</th>\n",
       "      <th>OFFENSE_CODE</th>\n",
       "      <th>OFFENSE_CODE_GROUP</th>\n",
       "      <th>OFFENSE_DESCRIPTION</th>\n",
       "      <th>DISTRICT</th>\n",
       "      <th>REPORTING_AREA</th>\n",
       "      <th>SHOOTING</th>\n",
       "      <th>OCCURRED_ON_DATE</th>\n",
       "      <th>YEAR</th>\n",
       "      <th>MONTH</th>\n",
       "      <th>DAY_OF_WEEK</th>\n",
       "      <th>HOUR</th>\n",
       "      <th>UCR_PART</th>\n",
       "      <th>STREET</th>\n",
       "      <th>Lat</th>\n",
       "      <th>Long</th>\n",
       "      <th>Location</th>\n",
       "    </tr>\n",
       "  </thead>\n",
       "  <tbody>\n",
       "    <tr>\n",
       "      <th>0</th>\n",
       "      <td>I182070945</td>\n",
       "      <td>619</td>\n",
       "      <td>Larceny</td>\n",
       "      <td>LARCENY ALL OTHERS</td>\n",
       "      <td>D14</td>\n",
       "      <td>808</td>\n",
       "      <td>NaN</td>\n",
       "      <td>2018-09-02 13:00:00</td>\n",
       "      <td>2018</td>\n",
       "      <td>9</td>\n",
       "      <td>Sunday</td>\n",
       "      <td>13</td>\n",
       "      <td>Part One</td>\n",
       "      <td>LINCOLN ST</td>\n",
       "      <td>42.357791</td>\n",
       "      <td>-71.139371</td>\n",
       "      <td>(42.35779134, -71.13937053)</td>\n",
       "    </tr>\n",
       "    <tr>\n",
       "      <th>1</th>\n",
       "      <td>I182070943</td>\n",
       "      <td>1402</td>\n",
       "      <td>Vandalism</td>\n",
       "      <td>VANDALISM</td>\n",
       "      <td>C11</td>\n",
       "      <td>347</td>\n",
       "      <td>NaN</td>\n",
       "      <td>2018-08-21 00:00:00</td>\n",
       "      <td>2018</td>\n",
       "      <td>8</td>\n",
       "      <td>Tuesday</td>\n",
       "      <td>0</td>\n",
       "      <td>Part Two</td>\n",
       "      <td>HECLA ST</td>\n",
       "      <td>42.306821</td>\n",
       "      <td>-71.060300</td>\n",
       "      <td>(42.30682138, -71.06030035)</td>\n",
       "    </tr>\n",
       "    <tr>\n",
       "      <th>2</th>\n",
       "      <td>I182070941</td>\n",
       "      <td>3410</td>\n",
       "      <td>Towed</td>\n",
       "      <td>TOWED MOTOR VEHICLE</td>\n",
       "      <td>D4</td>\n",
       "      <td>151</td>\n",
       "      <td>NaN</td>\n",
       "      <td>2018-09-03 19:27:00</td>\n",
       "      <td>2018</td>\n",
       "      <td>9</td>\n",
       "      <td>Monday</td>\n",
       "      <td>19</td>\n",
       "      <td>Part Three</td>\n",
       "      <td>CAZENOVE ST</td>\n",
       "      <td>42.346589</td>\n",
       "      <td>-71.072429</td>\n",
       "      <td>(42.34658879, -71.07242943)</td>\n",
       "    </tr>\n",
       "    <tr>\n",
       "      <th>3</th>\n",
       "      <td>I182070940</td>\n",
       "      <td>3114</td>\n",
       "      <td>Investigate Property</td>\n",
       "      <td>INVESTIGATE PROPERTY</td>\n",
       "      <td>D4</td>\n",
       "      <td>272</td>\n",
       "      <td>NaN</td>\n",
       "      <td>2018-09-03 21:16:00</td>\n",
       "      <td>2018</td>\n",
       "      <td>9</td>\n",
       "      <td>Monday</td>\n",
       "      <td>21</td>\n",
       "      <td>Part Three</td>\n",
       "      <td>NEWCOMB ST</td>\n",
       "      <td>42.334182</td>\n",
       "      <td>-71.078664</td>\n",
       "      <td>(42.33418175, -71.07866441)</td>\n",
       "    </tr>\n",
       "    <tr>\n",
       "      <th>4</th>\n",
       "      <td>I182070938</td>\n",
       "      <td>3114</td>\n",
       "      <td>Investigate Property</td>\n",
       "      <td>INVESTIGATE PROPERTY</td>\n",
       "      <td>B3</td>\n",
       "      <td>421</td>\n",
       "      <td>NaN</td>\n",
       "      <td>2018-09-03 21:05:00</td>\n",
       "      <td>2018</td>\n",
       "      <td>9</td>\n",
       "      <td>Monday</td>\n",
       "      <td>21</td>\n",
       "      <td>Part Three</td>\n",
       "      <td>DELHI ST</td>\n",
       "      <td>42.275365</td>\n",
       "      <td>-71.090361</td>\n",
       "      <td>(42.27536542, -71.09036101)</td>\n",
       "    </tr>\n",
       "  </tbody>\n",
       "</table>\n",
       "</div>"
      ],
      "text/plain": [
       "  INCIDENT_NUMBER  OFFENSE_CODE    OFFENSE_CODE_GROUP   OFFENSE_DESCRIPTION  \\\n",
       "0      I182070945           619               Larceny    LARCENY ALL OTHERS   \n",
       "1      I182070943          1402             Vandalism             VANDALISM   \n",
       "2      I182070941          3410                 Towed   TOWED MOTOR VEHICLE   \n",
       "3      I182070940          3114  Investigate Property  INVESTIGATE PROPERTY   \n",
       "4      I182070938          3114  Investigate Property  INVESTIGATE PROPERTY   \n",
       "\n",
       "  DISTRICT REPORTING_AREA SHOOTING     OCCURRED_ON_DATE  YEAR  MONTH  \\\n",
       "0      D14            808      NaN  2018-09-02 13:00:00  2018      9   \n",
       "1      C11            347      NaN  2018-08-21 00:00:00  2018      8   \n",
       "2       D4            151      NaN  2018-09-03 19:27:00  2018      9   \n",
       "3       D4            272      NaN  2018-09-03 21:16:00  2018      9   \n",
       "4       B3            421      NaN  2018-09-03 21:05:00  2018      9   \n",
       "\n",
       "  DAY_OF_WEEK  HOUR    UCR_PART       STREET        Lat       Long  \\\n",
       "0      Sunday    13    Part One   LINCOLN ST  42.357791 -71.139371   \n",
       "1     Tuesday     0    Part Two     HECLA ST  42.306821 -71.060300   \n",
       "2      Monday    19  Part Three  CAZENOVE ST  42.346589 -71.072429   \n",
       "3      Monday    21  Part Three   NEWCOMB ST  42.334182 -71.078664   \n",
       "4      Monday    21  Part Three     DELHI ST  42.275365 -71.090361   \n",
       "\n",
       "                      Location  \n",
       "0  (42.35779134, -71.13937053)  \n",
       "1  (42.30682138, -71.06030035)  \n",
       "2  (42.34658879, -71.07242943)  \n",
       "3  (42.33418175, -71.07866441)  \n",
       "4  (42.27536542, -71.09036101)  "
      ]
     },
     "execution_count": 3,
     "metadata": {},
     "output_type": "execute_result"
    }
   ],
   "source": [
    "df_crime =  pd.read_csv('crime_data/crime.csv', encoding = 'windows-1252')\n",
    "df_crime.head()"
   ]
  },
  {
   "cell_type": "code",
   "execution_count": 4,
   "id": "abd6cb6f",
   "metadata": {},
   "outputs": [
    {
     "data": {
      "text/html": [
       "<div>\n",
       "<style scoped>\n",
       "    .dataframe tbody tr th:only-of-type {\n",
       "        vertical-align: middle;\n",
       "    }\n",
       "\n",
       "    .dataframe tbody tr th {\n",
       "        vertical-align: top;\n",
       "    }\n",
       "\n",
       "    .dataframe thead th {\n",
       "        text-align: right;\n",
       "    }\n",
       "</style>\n",
       "<table border=\"1\" class=\"dataframe\">\n",
       "  <thead>\n",
       "    <tr style=\"text-align: right;\">\n",
       "      <th></th>\n",
       "      <th>OFFENSE_CODE</th>\n",
       "      <th>NAME</th>\n",
       "    </tr>\n",
       "  </thead>\n",
       "  <tbody>\n",
       "    <tr>\n",
       "      <th>0</th>\n",
       "      <td>612</td>\n",
       "      <td>LARCENY PURSE SNATCH - NO FORCE</td>\n",
       "    </tr>\n",
       "    <tr>\n",
       "      <th>1</th>\n",
       "      <td>613</td>\n",
       "      <td>LARCENY SHOPLIFTING</td>\n",
       "    </tr>\n",
       "    <tr>\n",
       "      <th>2</th>\n",
       "      <td>615</td>\n",
       "      <td>LARCENY THEFT OF MV PARTS &amp; ACCESSORIES</td>\n",
       "    </tr>\n",
       "    <tr>\n",
       "      <th>3</th>\n",
       "      <td>1731</td>\n",
       "      <td>INCEST</td>\n",
       "    </tr>\n",
       "    <tr>\n",
       "      <th>4</th>\n",
       "      <td>3111</td>\n",
       "      <td>LICENSE PREMISE VIOLATION</td>\n",
       "    </tr>\n",
       "  </tbody>\n",
       "</table>\n",
       "</div>"
      ],
      "text/plain": [
       "   OFFENSE_CODE                                     NAME\n",
       "0           612         LARCENY PURSE SNATCH - NO FORCE \n",
       "1           613                      LARCENY SHOPLIFTING\n",
       "2           615  LARCENY THEFT OF MV PARTS & ACCESSORIES\n",
       "3          1731                                   INCEST\n",
       "4          3111                LICENSE PREMISE VIOLATION"
      ]
     },
     "execution_count": 4,
     "metadata": {},
     "output_type": "execute_result"
    }
   ],
   "source": [
    "df_codes =  pd.read_csv('crime_data/offense_codes.csv', encoding = 'windows-1252')\n",
    "df_codes = df_codes.rename(columns = {'CODE':'OFFENSE_CODE'})\n",
    "df_codes.head()"
   ]
  },
  {
   "cell_type": "code",
   "execution_count": 5,
   "id": "f0c3a837",
   "metadata": {},
   "outputs": [
    {
     "data": {
      "text/plain": [
       "((319073, 17), (576, 2))"
      ]
     },
     "execution_count": 5,
     "metadata": {},
     "output_type": "execute_result"
    }
   ],
   "source": [
    "df_crime.shape, df_codes.shape"
   ]
  },
  {
   "cell_type": "code",
   "execution_count": 6,
   "id": "bdedf277",
   "metadata": {},
   "outputs": [
    {
     "data": {
      "text/plain": [
       "(INCIDENT_NUMBER             0\n",
       " OFFENSE_CODE                0\n",
       " OFFENSE_CODE_GROUP          0\n",
       " OFFENSE_DESCRIPTION         0\n",
       " DISTRICT                 1765\n",
       " REPORTING_AREA              0\n",
       " SHOOTING               318054\n",
       " OCCURRED_ON_DATE            0\n",
       " YEAR                        0\n",
       " MONTH                       0\n",
       " DAY_OF_WEEK                 0\n",
       " HOUR                        0\n",
       " UCR_PART                   90\n",
       " STREET                  10871\n",
       " Lat                     19999\n",
       " Long                    19999\n",
       " Location                    0\n",
       " dtype: int64,\n",
       " OFFENSE_CODE    0\n",
       " NAME            0\n",
       " dtype: int64)"
      ]
     },
     "execution_count": 6,
     "metadata": {},
     "output_type": "execute_result"
    }
   ],
   "source": [
    "df_crime.isna().sum() , df_codes.isna().sum()"
   ]
  },
  {
   "cell_type": "code",
   "execution_count": 7,
   "id": "d2fd7773",
   "metadata": {},
   "outputs": [
    {
     "data": {
      "text/plain": [
       "Y    1019\n",
       "Name: SHOOTING, dtype: int64"
      ]
     },
     "execution_count": 7,
     "metadata": {},
     "output_type": "execute_result"
    }
   ],
   "source": [
    "df_crime['SHOOTING'].value_counts()\n"
   ]
  },
  {
   "cell_type": "code",
   "execution_count": 8,
   "id": "5454ef72",
   "metadata": {},
   "outputs": [],
   "source": [
    "df_crime['OCCURRED_ON_DATE'] = pd.to_datetime(df_crime['OCCURRED_ON_DATE'])"
   ]
  },
  {
   "cell_type": "code",
   "execution_count": 9,
   "id": "cb4781eb",
   "metadata": {},
   "outputs": [
    {
     "data": {
      "text/html": [
       "<div>\n",
       "<style scoped>\n",
       "    .dataframe tbody tr th:only-of-type {\n",
       "        vertical-align: middle;\n",
       "    }\n",
       "\n",
       "    .dataframe tbody tr th {\n",
       "        vertical-align: top;\n",
       "    }\n",
       "\n",
       "    .dataframe thead th {\n",
       "        text-align: right;\n",
       "    }\n",
       "</style>\n",
       "<table border=\"1\" class=\"dataframe\">\n",
       "  <thead>\n",
       "    <tr style=\"text-align: right;\">\n",
       "      <th></th>\n",
       "      <th>INCIDENT_NUMBER</th>\n",
       "      <th>OFFENSE_CODE</th>\n",
       "      <th>OFFENSE_CODE_GROUP</th>\n",
       "      <th>OFFENSE_DESCRIPTION</th>\n",
       "      <th>DISTRICT</th>\n",
       "      <th>REPORTING_AREA</th>\n",
       "      <th>SHOOTING</th>\n",
       "      <th>OCCURRED_ON_DATE</th>\n",
       "      <th>YEAR</th>\n",
       "      <th>MONTH</th>\n",
       "      <th>DAY_OF_WEEK</th>\n",
       "      <th>HOUR</th>\n",
       "      <th>UCR_PART</th>\n",
       "      <th>STREET</th>\n",
       "      <th>Lat</th>\n",
       "      <th>Long</th>\n",
       "      <th>Location</th>\n",
       "    </tr>\n",
       "  </thead>\n",
       "  <tbody>\n",
       "    <tr>\n",
       "      <th>1295</th>\n",
       "      <td>I182069509</td>\n",
       "      <td>413</td>\n",
       "      <td>Aggravated Assault</td>\n",
       "      <td>ASSAULT - AGGRAVATED - BATTERY</td>\n",
       "      <td>E18</td>\n",
       "      <td>540</td>\n",
       "      <td>Y</td>\n",
       "      <td>2018-08-29 23:19:00</td>\n",
       "      <td>2018</td>\n",
       "      <td>8</td>\n",
       "      <td>Wednesday</td>\n",
       "      <td>23</td>\n",
       "      <td>Part One</td>\n",
       "      <td>HILLIS RD</td>\n",
       "      <td>42.250405</td>\n",
       "      <td>-71.131737</td>\n",
       "      <td>(42.25040550, -71.13173740)</td>\n",
       "    </tr>\n",
       "    <tr>\n",
       "      <th>1860</th>\n",
       "      <td>I182068876</td>\n",
       "      <td>413</td>\n",
       "      <td>Aggravated Assault</td>\n",
       "      <td>ASSAULT - AGGRAVATED - BATTERY</td>\n",
       "      <td>B2</td>\n",
       "      <td>183</td>\n",
       "      <td>Y</td>\n",
       "      <td>2018-08-27 22:56:00</td>\n",
       "      <td>2018</td>\n",
       "      <td>8</td>\n",
       "      <td>Monday</td>\n",
       "      <td>22</td>\n",
       "      <td>Part One</td>\n",
       "      <td>DUDLEY ST</td>\n",
       "      <td>42.321042</td>\n",
       "      <td>-71.072153</td>\n",
       "      <td>(42.32104169, -71.07215291)</td>\n",
       "    </tr>\n",
       "    <tr>\n",
       "      <th>3259</th>\n",
       "      <td>I182067317</td>\n",
       "      <td>111</td>\n",
       "      <td>Homicide</td>\n",
       "      <td>MURDER, NON-NEGLIGIENT MANSLAUGHTER</td>\n",
       "      <td>B2</td>\n",
       "      <td>312</td>\n",
       "      <td>Y</td>\n",
       "      <td>2018-08-22 15:00:00</td>\n",
       "      <td>2018</td>\n",
       "      <td>8</td>\n",
       "      <td>Wednesday</td>\n",
       "      <td>15</td>\n",
       "      <td>Part One</td>\n",
       "      <td>HOLLANDER ST</td>\n",
       "      <td>42.315689</td>\n",
       "      <td>-71.089514</td>\n",
       "      <td>(42.31568920, -71.08951391)</td>\n",
       "    </tr>\n",
       "    <tr>\n",
       "      <th>3260</th>\n",
       "      <td>I182067317</td>\n",
       "      <td>2662</td>\n",
       "      <td>Ballistics</td>\n",
       "      <td>BALLISTICS EVIDENCE/FOUND</td>\n",
       "      <td>B2</td>\n",
       "      <td>312</td>\n",
       "      <td>Y</td>\n",
       "      <td>2018-08-22 15:00:00</td>\n",
       "      <td>2018</td>\n",
       "      <td>8</td>\n",
       "      <td>Wednesday</td>\n",
       "      <td>15</td>\n",
       "      <td>Part Two</td>\n",
       "      <td>HOLLANDER ST</td>\n",
       "      <td>42.315689</td>\n",
       "      <td>-71.089514</td>\n",
       "      <td>(42.31568920, -71.08951391)</td>\n",
       "    </tr>\n",
       "    <tr>\n",
       "      <th>4107</th>\n",
       "      <td>I182066420</td>\n",
       "      <td>413</td>\n",
       "      <td>Aggravated Assault</td>\n",
       "      <td>ASSAULT - AGGRAVATED - BATTERY</td>\n",
       "      <td>A15</td>\n",
       "      <td>900</td>\n",
       "      <td>Y</td>\n",
       "      <td>2018-08-19 22:46:00</td>\n",
       "      <td>2018</td>\n",
       "      <td>8</td>\n",
       "      <td>Sunday</td>\n",
       "      <td>22</td>\n",
       "      <td>Part One</td>\n",
       "      <td>MCNULTY CT</td>\n",
       "      <td>42.378085</td>\n",
       "      <td>-71.057841</td>\n",
       "      <td>(42.37808452, -71.05784115)</td>\n",
       "    </tr>\n",
       "    <tr>\n",
       "      <th>...</th>\n",
       "      <td>...</td>\n",
       "      <td>...</td>\n",
       "      <td>...</td>\n",
       "      <td>...</td>\n",
       "      <td>...</td>\n",
       "      <td>...</td>\n",
       "      <td>...</td>\n",
       "      <td>...</td>\n",
       "      <td>...</td>\n",
       "      <td>...</td>\n",
       "      <td>...</td>\n",
       "      <td>...</td>\n",
       "      <td>...</td>\n",
       "      <td>...</td>\n",
       "      <td>...</td>\n",
       "      <td>...</td>\n",
       "      <td>...</td>\n",
       "    </tr>\n",
       "    <tr>\n",
       "      <th>317369</th>\n",
       "      <td>I152051161</td>\n",
       "      <td>413</td>\n",
       "      <td>Aggravated Assault</td>\n",
       "      <td>ASSAULT - AGGRAVATED - BATTERY</td>\n",
       "      <td>B2</td>\n",
       "      <td>238</td>\n",
       "      <td>Y</td>\n",
       "      <td>2015-06-20 00:00:00</td>\n",
       "      <td>2015</td>\n",
       "      <td>6</td>\n",
       "      <td>Saturday</td>\n",
       "      <td>0</td>\n",
       "      <td>Part One</td>\n",
       "      <td>DUDLEY ST</td>\n",
       "      <td>42.317808</td>\n",
       "      <td>-71.066850</td>\n",
       "      <td>(42.31780762, -71.06684990)</td>\n",
       "    </tr>\n",
       "    <tr>\n",
       "      <th>317370</th>\n",
       "      <td>I152051161</td>\n",
       "      <td>1503</td>\n",
       "      <td>Firearm Violations</td>\n",
       "      <td>WEAPON - OTHER - CARRYING / POSSESSING, ETC</td>\n",
       "      <td>B2</td>\n",
       "      <td>238</td>\n",
       "      <td>Y</td>\n",
       "      <td>2015-06-20 00:00:00</td>\n",
       "      <td>2015</td>\n",
       "      <td>6</td>\n",
       "      <td>Saturday</td>\n",
       "      <td>0</td>\n",
       "      <td>Part Two</td>\n",
       "      <td>DUDLEY ST</td>\n",
       "      <td>42.317808</td>\n",
       "      <td>-71.066850</td>\n",
       "      <td>(42.31780762, -71.06684990)</td>\n",
       "    </tr>\n",
       "    <tr>\n",
       "      <th>317371</th>\n",
       "      <td>I152051161</td>\n",
       "      <td>3125</td>\n",
       "      <td>Warrant Arrests</td>\n",
       "      <td>WARRANT ARREST</td>\n",
       "      <td>B2</td>\n",
       "      <td>238</td>\n",
       "      <td>Y</td>\n",
       "      <td>2015-06-20 00:00:00</td>\n",
       "      <td>2015</td>\n",
       "      <td>6</td>\n",
       "      <td>Saturday</td>\n",
       "      <td>0</td>\n",
       "      <td>Part Three</td>\n",
       "      <td>DUDLEY ST</td>\n",
       "      <td>42.317808</td>\n",
       "      <td>-71.066850</td>\n",
       "      <td>(42.31780762, -71.06684990)</td>\n",
       "    </tr>\n",
       "    <tr>\n",
       "      <th>317567</th>\n",
       "      <td>I152050961</td>\n",
       "      <td>413</td>\n",
       "      <td>Aggravated Assault</td>\n",
       "      <td>ASSAULT - AGGRAVATED - BATTERY</td>\n",
       "      <td>B2</td>\n",
       "      <td>286</td>\n",
       "      <td>Y</td>\n",
       "      <td>2015-06-19 21:20:00</td>\n",
       "      <td>2015</td>\n",
       "      <td>6</td>\n",
       "      <td>Friday</td>\n",
       "      <td>21</td>\n",
       "      <td>Part One</td>\n",
       "      <td>KERR WAY</td>\n",
       "      <td>42.333584</td>\n",
       "      <td>-71.085543</td>\n",
       "      <td>(42.33358389, -71.08554259)</td>\n",
       "    </tr>\n",
       "    <tr>\n",
       "      <th>318306</th>\n",
       "      <td>I152050036</td>\n",
       "      <td>413</td>\n",
       "      <td>Aggravated Assault</td>\n",
       "      <td>ASSAULT - AGGRAVATED - BATTERY</td>\n",
       "      <td>B2</td>\n",
       "      <td>326</td>\n",
       "      <td>Y</td>\n",
       "      <td>2015-06-16 20:41:00</td>\n",
       "      <td>2015</td>\n",
       "      <td>6</td>\n",
       "      <td>Tuesday</td>\n",
       "      <td>20</td>\n",
       "      <td>Part One</td>\n",
       "      <td>LAWRENCE AVE</td>\n",
       "      <td>42.311611</td>\n",
       "      <td>-71.076256</td>\n",
       "      <td>(42.31161123, -71.07625600)</td>\n",
       "    </tr>\n",
       "  </tbody>\n",
       "</table>\n",
       "<p>1019 rows × 17 columns</p>\n",
       "</div>"
      ],
      "text/plain": [
       "       INCIDENT_NUMBER  OFFENSE_CODE  OFFENSE_CODE_GROUP  \\\n",
       "1295        I182069509           413  Aggravated Assault   \n",
       "1860        I182068876           413  Aggravated Assault   \n",
       "3259        I182067317           111            Homicide   \n",
       "3260        I182067317          2662          Ballistics   \n",
       "4107        I182066420           413  Aggravated Assault   \n",
       "...                ...           ...                 ...   \n",
       "317369      I152051161           413  Aggravated Assault   \n",
       "317370      I152051161          1503  Firearm Violations   \n",
       "317371      I152051161          3125     Warrant Arrests   \n",
       "317567      I152050961           413  Aggravated Assault   \n",
       "318306      I152050036           413  Aggravated Assault   \n",
       "\n",
       "                                OFFENSE_DESCRIPTION DISTRICT REPORTING_AREA  \\\n",
       "1295                 ASSAULT - AGGRAVATED - BATTERY      E18            540   \n",
       "1860                 ASSAULT - AGGRAVATED - BATTERY       B2            183   \n",
       "3259            MURDER, NON-NEGLIGIENT MANSLAUGHTER       B2            312   \n",
       "3260                      BALLISTICS EVIDENCE/FOUND       B2            312   \n",
       "4107                 ASSAULT - AGGRAVATED - BATTERY      A15            900   \n",
       "...                                             ...      ...            ...   \n",
       "317369               ASSAULT - AGGRAVATED - BATTERY       B2            238   \n",
       "317370  WEAPON - OTHER - CARRYING / POSSESSING, ETC       B2            238   \n",
       "317371                               WARRANT ARREST       B2            238   \n",
       "317567               ASSAULT - AGGRAVATED - BATTERY       B2            286   \n",
       "318306               ASSAULT - AGGRAVATED - BATTERY       B2            326   \n",
       "\n",
       "       SHOOTING    OCCURRED_ON_DATE  YEAR  MONTH DAY_OF_WEEK  HOUR  \\\n",
       "1295          Y 2018-08-29 23:19:00  2018      8   Wednesday    23   \n",
       "1860          Y 2018-08-27 22:56:00  2018      8      Monday    22   \n",
       "3259          Y 2018-08-22 15:00:00  2018      8   Wednesday    15   \n",
       "3260          Y 2018-08-22 15:00:00  2018      8   Wednesday    15   \n",
       "4107          Y 2018-08-19 22:46:00  2018      8      Sunday    22   \n",
       "...         ...                 ...   ...    ...         ...   ...   \n",
       "317369        Y 2015-06-20 00:00:00  2015      6    Saturday     0   \n",
       "317370        Y 2015-06-20 00:00:00  2015      6    Saturday     0   \n",
       "317371        Y 2015-06-20 00:00:00  2015      6    Saturday     0   \n",
       "317567        Y 2015-06-19 21:20:00  2015      6      Friday    21   \n",
       "318306        Y 2015-06-16 20:41:00  2015      6     Tuesday    20   \n",
       "\n",
       "          UCR_PART        STREET        Lat       Long  \\\n",
       "1295      Part One     HILLIS RD  42.250405 -71.131737   \n",
       "1860      Part One     DUDLEY ST  42.321042 -71.072153   \n",
       "3259      Part One  HOLLANDER ST  42.315689 -71.089514   \n",
       "3260      Part Two  HOLLANDER ST  42.315689 -71.089514   \n",
       "4107      Part One    MCNULTY CT  42.378085 -71.057841   \n",
       "...            ...           ...        ...        ...   \n",
       "317369    Part One     DUDLEY ST  42.317808 -71.066850   \n",
       "317370    Part Two     DUDLEY ST  42.317808 -71.066850   \n",
       "317371  Part Three     DUDLEY ST  42.317808 -71.066850   \n",
       "317567    Part One      KERR WAY  42.333584 -71.085543   \n",
       "318306    Part One  LAWRENCE AVE  42.311611 -71.076256   \n",
       "\n",
       "                           Location  \n",
       "1295    (42.25040550, -71.13173740)  \n",
       "1860    (42.32104169, -71.07215291)  \n",
       "3259    (42.31568920, -71.08951391)  \n",
       "3260    (42.31568920, -71.08951391)  \n",
       "4107    (42.37808452, -71.05784115)  \n",
       "...                             ...  \n",
       "317369  (42.31780762, -71.06684990)  \n",
       "317370  (42.31780762, -71.06684990)  \n",
       "317371  (42.31780762, -71.06684990)  \n",
       "317567  (42.33358389, -71.08554259)  \n",
       "318306  (42.31161123, -71.07625600)  \n",
       "\n",
       "[1019 rows x 17 columns]"
      ]
     },
     "execution_count": 9,
     "metadata": {},
     "output_type": "execute_result"
    }
   ],
   "source": [
    "df_crime[df_crime['SHOOTING'].notna()]"
   ]
  },
  {
   "cell_type": "code",
   "execution_count": 10,
   "id": "9ba004f1",
   "metadata": {},
   "outputs": [
    {
     "data": {
      "text/plain": [
       "(319073, 17)"
      ]
     },
     "execution_count": 10,
     "metadata": {},
     "output_type": "execute_result"
    }
   ],
   "source": [
    "df_crime.shape"
   ]
  },
  {
   "cell_type": "code",
   "execution_count": 11,
   "id": "cb4a82ab",
   "metadata": {},
   "outputs": [],
   "source": [
    "# shooting column has values Nan which seems to be cases where shooting wasn't involved. So repolace Nan with N\n",
    "df_crime['SHOOTING'] = df_crime['SHOOTING'].fillna('N')"
   ]
  },
  {
   "cell_type": "code",
   "execution_count": 12,
   "id": "1f6eac72",
   "metadata": {},
   "outputs": [
    {
     "data": {
      "text/html": [
       "<div>\n",
       "<style scoped>\n",
       "    .dataframe tbody tr th:only-of-type {\n",
       "        vertical-align: middle;\n",
       "    }\n",
       "\n",
       "    .dataframe tbody tr th {\n",
       "        vertical-align: top;\n",
       "    }\n",
       "\n",
       "    .dataframe thead th {\n",
       "        text-align: right;\n",
       "    }\n",
       "</style>\n",
       "<table border=\"1\" class=\"dataframe\">\n",
       "  <thead>\n",
       "    <tr style=\"text-align: right;\">\n",
       "      <th></th>\n",
       "      <th>INCIDENT_NUMBER</th>\n",
       "      <th>OFFENSE_CODE</th>\n",
       "      <th>OFFENSE_CODE_GROUP</th>\n",
       "      <th>OFFENSE_DESCRIPTION</th>\n",
       "      <th>DISTRICT</th>\n",
       "      <th>REPORTING_AREA</th>\n",
       "      <th>SHOOTING</th>\n",
       "      <th>OCCURRED_ON_DATE</th>\n",
       "      <th>YEAR</th>\n",
       "      <th>MONTH</th>\n",
       "      <th>DAY_OF_WEEK</th>\n",
       "      <th>HOUR</th>\n",
       "      <th>UCR_PART</th>\n",
       "      <th>STREET</th>\n",
       "      <th>Lat</th>\n",
       "      <th>Long</th>\n",
       "      <th>Location</th>\n",
       "      <th>NAME</th>\n",
       "    </tr>\n",
       "  </thead>\n",
       "  <tbody>\n",
       "    <tr>\n",
       "      <th>0</th>\n",
       "      <td>I182070945</td>\n",
       "      <td>619</td>\n",
       "      <td>Larceny</td>\n",
       "      <td>LARCENY ALL OTHERS</td>\n",
       "      <td>D14</td>\n",
       "      <td>808</td>\n",
       "      <td>N</td>\n",
       "      <td>2018-09-02 13:00:00</td>\n",
       "      <td>2018</td>\n",
       "      <td>9</td>\n",
       "      <td>Sunday</td>\n",
       "      <td>13</td>\n",
       "      <td>Part One</td>\n",
       "      <td>LINCOLN ST</td>\n",
       "      <td>42.357791</td>\n",
       "      <td>-71.139371</td>\n",
       "      <td>(42.35779134, -71.13937053)</td>\n",
       "      <td>LARCENY ALL OTHERS</td>\n",
       "    </tr>\n",
       "    <tr>\n",
       "      <th>1</th>\n",
       "      <td>I182070943</td>\n",
       "      <td>1402</td>\n",
       "      <td>Vandalism</td>\n",
       "      <td>VANDALISM</td>\n",
       "      <td>C11</td>\n",
       "      <td>347</td>\n",
       "      <td>N</td>\n",
       "      <td>2018-08-21 00:00:00</td>\n",
       "      <td>2018</td>\n",
       "      <td>8</td>\n",
       "      <td>Tuesday</td>\n",
       "      <td>0</td>\n",
       "      <td>Part Two</td>\n",
       "      <td>HECLA ST</td>\n",
       "      <td>42.306821</td>\n",
       "      <td>-71.060300</td>\n",
       "      <td>(42.30682138, -71.06030035)</td>\n",
       "      <td>VANDALISM</td>\n",
       "    </tr>\n",
       "    <tr>\n",
       "      <th>2</th>\n",
       "      <td>I182070941</td>\n",
       "      <td>3410</td>\n",
       "      <td>Towed</td>\n",
       "      <td>TOWED MOTOR VEHICLE</td>\n",
       "      <td>D4</td>\n",
       "      <td>151</td>\n",
       "      <td>N</td>\n",
       "      <td>2018-09-03 19:27:00</td>\n",
       "      <td>2018</td>\n",
       "      <td>9</td>\n",
       "      <td>Monday</td>\n",
       "      <td>19</td>\n",
       "      <td>Part Three</td>\n",
       "      <td>CAZENOVE ST</td>\n",
       "      <td>42.346589</td>\n",
       "      <td>-71.072429</td>\n",
       "      <td>(42.34658879, -71.07242943)</td>\n",
       "      <td>TOWED MOTOR VEHICLE</td>\n",
       "    </tr>\n",
       "    <tr>\n",
       "      <th>3</th>\n",
       "      <td>I182070940</td>\n",
       "      <td>3114</td>\n",
       "      <td>Investigate Property</td>\n",
       "      <td>INVESTIGATE PROPERTY</td>\n",
       "      <td>D4</td>\n",
       "      <td>272</td>\n",
       "      <td>N</td>\n",
       "      <td>2018-09-03 21:16:00</td>\n",
       "      <td>2018</td>\n",
       "      <td>9</td>\n",
       "      <td>Monday</td>\n",
       "      <td>21</td>\n",
       "      <td>Part Three</td>\n",
       "      <td>NEWCOMB ST</td>\n",
       "      <td>42.334182</td>\n",
       "      <td>-71.078664</td>\n",
       "      <td>(42.33418175, -71.07866441)</td>\n",
       "      <td>INVESTIGATE PROPERTY</td>\n",
       "    </tr>\n",
       "    <tr>\n",
       "      <th>4</th>\n",
       "      <td>I182070938</td>\n",
       "      <td>3114</td>\n",
       "      <td>Investigate Property</td>\n",
       "      <td>INVESTIGATE PROPERTY</td>\n",
       "      <td>B3</td>\n",
       "      <td>421</td>\n",
       "      <td>N</td>\n",
       "      <td>2018-09-03 21:05:00</td>\n",
       "      <td>2018</td>\n",
       "      <td>9</td>\n",
       "      <td>Monday</td>\n",
       "      <td>21</td>\n",
       "      <td>Part Three</td>\n",
       "      <td>DELHI ST</td>\n",
       "      <td>42.275365</td>\n",
       "      <td>-71.090361</td>\n",
       "      <td>(42.27536542, -71.09036101)</td>\n",
       "      <td>INVESTIGATE PROPERTY</td>\n",
       "    </tr>\n",
       "  </tbody>\n",
       "</table>\n",
       "</div>"
      ],
      "text/plain": [
       "  INCIDENT_NUMBER  OFFENSE_CODE    OFFENSE_CODE_GROUP   OFFENSE_DESCRIPTION  \\\n",
       "0      I182070945           619               Larceny    LARCENY ALL OTHERS   \n",
       "1      I182070943          1402             Vandalism             VANDALISM   \n",
       "2      I182070941          3410                 Towed   TOWED MOTOR VEHICLE   \n",
       "3      I182070940          3114  Investigate Property  INVESTIGATE PROPERTY   \n",
       "4      I182070938          3114  Investigate Property  INVESTIGATE PROPERTY   \n",
       "\n",
       "  DISTRICT REPORTING_AREA SHOOTING    OCCURRED_ON_DATE  YEAR  MONTH  \\\n",
       "0      D14            808        N 2018-09-02 13:00:00  2018      9   \n",
       "1      C11            347        N 2018-08-21 00:00:00  2018      8   \n",
       "2       D4            151        N 2018-09-03 19:27:00  2018      9   \n",
       "3       D4            272        N 2018-09-03 21:16:00  2018      9   \n",
       "4       B3            421        N 2018-09-03 21:05:00  2018      9   \n",
       "\n",
       "  DAY_OF_WEEK  HOUR    UCR_PART       STREET        Lat       Long  \\\n",
       "0      Sunday    13    Part One   LINCOLN ST  42.357791 -71.139371   \n",
       "1     Tuesday     0    Part Two     HECLA ST  42.306821 -71.060300   \n",
       "2      Monday    19  Part Three  CAZENOVE ST  42.346589 -71.072429   \n",
       "3      Monday    21  Part Three   NEWCOMB ST  42.334182 -71.078664   \n",
       "4      Monday    21  Part Three     DELHI ST  42.275365 -71.090361   \n",
       "\n",
       "                      Location                  NAME  \n",
       "0  (42.35779134, -71.13937053)    LARCENY ALL OTHERS  \n",
       "1  (42.30682138, -71.06030035)             VANDALISM  \n",
       "2  (42.34658879, -71.07242943)   TOWED MOTOR VEHICLE  \n",
       "3  (42.33418175, -71.07866441)  INVESTIGATE PROPERTY  \n",
       "4  (42.27536542, -71.09036101)  INVESTIGATE PROPERTY  "
      ]
     },
     "execution_count": 12,
     "metadata": {},
     "output_type": "execute_result"
    }
   ],
   "source": [
    "df_merged = df_crime.merge(df_codes.drop_duplicates(subset=['OFFENSE_CODE']), how='left') \n",
    "df_merged.head()"
   ]
  },
  {
   "cell_type": "code",
   "execution_count": 13,
   "id": "f847fe5e",
   "metadata": {},
   "outputs": [
    {
     "data": {
      "text/plain": [
       "(319073, 18)"
      ]
     },
     "execution_count": 13,
     "metadata": {},
     "output_type": "execute_result"
    }
   ],
   "source": [
    "df_merged.shape"
   ]
  },
  {
   "cell_type": "markdown",
   "id": "d43ed830",
   "metadata": {},
   "source": [
    "## Question 1."
   ]
  },
  {
   "cell_type": "code",
   "execution_count": 14,
   "id": "2b183697",
   "metadata": {},
   "outputs": [
    {
     "data": {
      "text/plain": [
       "SICK/INJURED/MEDICAL - PERSON            18783\n",
       "INVESTIGATE PERSON                       18754\n",
       "M/V - LEAVING SCENE - PROPERTY DAMAGE    16323\n",
       "VANDALISM                                15154\n",
       "ASSAULT SIMPLE - BATTERY                 14799\n",
       "VERBAL DISPUTE                           13099\n",
       "TOWED MOTOR VEHICLE                      11287\n",
       "INVESTIGATE PROPERTY                     11124\n",
       "LARCENY THEFT FROM BUILDING               9074\n",
       "THREATS TO DO BODILY HARM                 9042\n",
       "Name: NAME, dtype: int64"
      ]
     },
     "execution_count": 14,
     "metadata": {},
     "output_type": "execute_result"
    }
   ],
   "source": [
    "# Count the number of occurrences of each offense type\n",
    "offense_counts = df_merged[\"NAME\"].value_counts().sort_values(ascending=False)\n",
    "offense_counts.head(10)"
   ]
  },
  {
   "cell_type": "code",
   "execution_count": 15,
   "id": "fb319e06",
   "metadata": {},
   "outputs": [
    {
     "data": {
      "image/png": "[encoded data removed]",
      "text/plain": [
       "<Figure size 432x288 with 1 Axes>"
      ]
     },
     "metadata": {
      "needs_background": "light"
     },
     "output_type": "display_data"
    }
   ],
   "source": [
    "# Siince there are around 150ntypes of offences, I've plotted most frequently occoring offenses\n",
    "# Plot the bar plot\n",
    "plt.bar(offense_counts.index[:20], offense_counts.values[:20])\n",
    "plt.xlabel(\"Offense Type\")\n",
    "plt.ylabel(\"Number of Occurrences\")\n",
    "plt.title(\"Occurrences of Offenses in Boston\")\n",
    "plt.xticks(rotation=90)\n",
    "plt.show()"
   ]
  },
  {
   "cell_type": "markdown",
   "id": "cf4c1c7f",
   "metadata": {},
   "source": [
    "Most commom type of crimes that Boston police has to handle is Sick/Injured/Medical Person among many other frequent offenses like INVESTIGATE PERSON, M/V - LEAVING SCENE - PROPERTY DAMAGE, VANDALISM, ASSAULT SIMPLE - BATTERY , VERBAL DISPUTE etc.\n"
   ]
  },
  {
   "cell_type": "markdown",
   "id": "137b0c8b",
   "metadata": {},
   "source": [
    "## Question 2."
   ]
  },
  {
   "cell_type": "code",
   "execution_count": 16,
   "id": "85e1e8f2",
   "metadata": {},
   "outputs": [
    {
     "data": {
      "text/html": [
       "<div>\n",
       "<style scoped>\n",
       "    .dataframe tbody tr th:only-of-type {\n",
       "        vertical-align: middle;\n",
       "    }\n",
       "\n",
       "    .dataframe tbody tr th {\n",
       "        vertical-align: top;\n",
       "    }\n",
       "\n",
       "    .dataframe thead th {\n",
       "        text-align: right;\n",
       "    }\n",
       "</style>\n",
       "<table border=\"1\" class=\"dataframe\">\n",
       "  <thead>\n",
       "    <tr style=\"text-align: right;\">\n",
       "      <th></th>\n",
       "      <th>OFFENSE_CODE</th>\n",
       "      <th>NAME</th>\n",
       "    </tr>\n",
       "  </thead>\n",
       "  <tbody>\n",
       "    <tr>\n",
       "      <th>7</th>\n",
       "      <td>3810</td>\n",
       "      <td>M/V ACCIDENT - INVOLVING ÊBICYCLE - INJURY</td>\n",
       "    </tr>\n",
       "    <tr>\n",
       "      <th>8</th>\n",
       "      <td>3801</td>\n",
       "      <td>M/V ACCIDENT - OTHER</td>\n",
       "    </tr>\n",
       "    <tr>\n",
       "      <th>9</th>\n",
       "      <td>3807</td>\n",
       "      <td>M/V ACCIDENT - OTHER CITY VEHICLE</td>\n",
       "    </tr>\n",
       "    <tr>\n",
       "      <th>10</th>\n",
       "      <td>3803</td>\n",
       "      <td>M/V ACCIDENT - PERSONAL INJURY</td>\n",
       "    </tr>\n",
       "    <tr>\n",
       "      <th>11</th>\n",
       "      <td>3805</td>\n",
       "      <td>M/V ACCIDENT - POLICE VEHICLE</td>\n",
       "    </tr>\n",
       "    <tr>\n",
       "      <th>12</th>\n",
       "      <td>3802</td>\n",
       "      <td>M/V ACCIDENT - PROPERTY ÊDAMAGE</td>\n",
       "    </tr>\n",
       "    <tr>\n",
       "      <th>176</th>\n",
       "      <td>3811</td>\n",
       "      <td>M/V ACCIDENT - INVOLVING BICYCLE - NO INJURY</td>\n",
       "    </tr>\n",
       "    <tr>\n",
       "      <th>177</th>\n",
       "      <td>3820</td>\n",
       "      <td>M/V ACCIDENT INVOLVING PEDESTRIAN - INJURY</td>\n",
       "    </tr>\n",
       "    <tr>\n",
       "      <th>178</th>\n",
       "      <td>3821</td>\n",
       "      <td>M/V ACCIDENT - INVOLVING PEDESTRIAN - NO INJURY</td>\n",
       "    </tr>\n",
       "    <tr>\n",
       "      <th>441</th>\n",
       "      <td>3712</td>\n",
       "      <td>M/V ACCIDENT - OTHER</td>\n",
       "    </tr>\n",
       "    <tr>\n",
       "      <th>443</th>\n",
       "      <td>3702</td>\n",
       "      <td>M/V ACCIDENT - PERSONAL INJURY</td>\n",
       "    </tr>\n",
       "    <tr>\n",
       "      <th>444</th>\n",
       "      <td>3704</td>\n",
       "      <td>M/V ACCIDENT - POLICE VEHICLE</td>\n",
       "    </tr>\n",
       "    <tr>\n",
       "      <th>445</th>\n",
       "      <td>3701</td>\n",
       "      <td>M/V ACCIDENT - PROPERTY DAMAGE</td>\n",
       "    </tr>\n",
       "    <tr>\n",
       "      <th>543</th>\n",
       "      <td>3709</td>\n",
       "      <td>M/V ACCIDENT - INVOLVING BICYCLE</td>\n",
       "    </tr>\n",
       "  </tbody>\n",
       "</table>\n",
       "</div>"
      ],
      "text/plain": [
       "     OFFENSE_CODE                                             NAME\n",
       "7            3810       M/V ACCIDENT - INVOLVING ÊBICYCLE - INJURY\n",
       "8            3801                             M/V ACCIDENT - OTHER\n",
       "9            3807                M/V ACCIDENT - OTHER CITY VEHICLE\n",
       "10           3803                   M/V ACCIDENT - PERSONAL INJURY\n",
       "11           3805                    M/V ACCIDENT - POLICE VEHICLE\n",
       "12           3802                  M/V ACCIDENT - PROPERTY ÊDAMAGE\n",
       "176          3811     M/V ACCIDENT - INVOLVING BICYCLE - NO INJURY\n",
       "177          3820       M/V ACCIDENT INVOLVING PEDESTRIAN - INJURY\n",
       "178          3821  M/V ACCIDENT - INVOLVING PEDESTRIAN - NO INJURY\n",
       "441          3712                             M/V ACCIDENT - OTHER\n",
       "443          3702                   M/V ACCIDENT - PERSONAL INJURY\n",
       "444          3704                    M/V ACCIDENT - POLICE VEHICLE\n",
       "445          3701                   M/V ACCIDENT - PROPERTY DAMAGE\n",
       "543          3709                 M/V ACCIDENT - INVOLVING BICYCLE"
      ]
     },
     "execution_count": 16,
     "metadata": {},
     "output_type": "execute_result"
    }
   ],
   "source": [
    "# find all kinds of M/V accidents\n",
    "accidents = df_codes.loc[df_codes['NAME'].str.contains(\"M/V ACCIDENT\")]\n",
    "accidents"
   ]
  },
  {
   "cell_type": "code",
   "execution_count": 17,
   "id": "19a691cd",
   "metadata": {},
   "outputs": [
    {
     "data": {
      "text/html": [
       "<div>\n",
       "<style scoped>\n",
       "    .dataframe tbody tr th:only-of-type {\n",
       "        vertical-align: middle;\n",
       "    }\n",
       "\n",
       "    .dataframe tbody tr th {\n",
       "        vertical-align: top;\n",
       "    }\n",
       "\n",
       "    .dataframe thead th {\n",
       "        text-align: right;\n",
       "    }\n",
       "</style>\n",
       "<table border=\"1\" class=\"dataframe\">\n",
       "  <thead>\n",
       "    <tr style=\"text-align: right;\">\n",
       "      <th></th>\n",
       "      <th>INCIDENT_NUMBER</th>\n",
       "      <th>OFFENSE_CODE</th>\n",
       "      <th>OFFENSE_CODE_GROUP</th>\n",
       "      <th>OFFENSE_DESCRIPTION</th>\n",
       "      <th>DISTRICT</th>\n",
       "      <th>REPORTING_AREA</th>\n",
       "      <th>SHOOTING</th>\n",
       "      <th>OCCURRED_ON_DATE</th>\n",
       "      <th>YEAR</th>\n",
       "      <th>MONTH</th>\n",
       "      <th>DAY_OF_WEEK</th>\n",
       "      <th>HOUR</th>\n",
       "      <th>UCR_PART</th>\n",
       "      <th>STREET</th>\n",
       "      <th>Lat</th>\n",
       "      <th>Long</th>\n",
       "      <th>Location</th>\n",
       "      <th>NAME</th>\n",
       "    </tr>\n",
       "  </thead>\n",
       "  <tbody>\n",
       "    <tr>\n",
       "      <th>5</th>\n",
       "      <td>I182070936</td>\n",
       "      <td>3820</td>\n",
       "      <td>Motor Vehicle Accident Response</td>\n",
       "      <td>M/V ACCIDENT INVOLVING PEDESTRIAN - INJURY</td>\n",
       "      <td>C11</td>\n",
       "      <td>398</td>\n",
       "      <td>N</td>\n",
       "      <td>2018-09-03 21:09:00</td>\n",
       "      <td>2018</td>\n",
       "      <td>9</td>\n",
       "      <td>Monday</td>\n",
       "      <td>21</td>\n",
       "      <td>Part Three</td>\n",
       "      <td>TALBOT AVE</td>\n",
       "      <td>42.290196</td>\n",
       "      <td>-71.071590</td>\n",
       "      <td>(42.29019621, -71.07159012)</td>\n",
       "      <td>M/V ACCIDENT INVOLVING PEDESTRIAN - INJURY</td>\n",
       "    </tr>\n",
       "    <tr>\n",
       "      <th>21</th>\n",
       "      <td>I182070911</td>\n",
       "      <td>3801</td>\n",
       "      <td>Motor Vehicle Accident Response</td>\n",
       "      <td>M/V ACCIDENT - OTHER</td>\n",
       "      <td>A1</td>\n",
       "      <td>69</td>\n",
       "      <td>N</td>\n",
       "      <td>2018-09-03 18:30:00</td>\n",
       "      <td>2018</td>\n",
       "      <td>9</td>\n",
       "      <td>Monday</td>\n",
       "      <td>18</td>\n",
       "      <td>Part Three</td>\n",
       "      <td>BEACON ST</td>\n",
       "      <td>42.355644</td>\n",
       "      <td>-71.071681</td>\n",
       "      <td>(42.35564426, -71.07168077)</td>\n",
       "      <td>M/V ACCIDENT - OTHER</td>\n",
       "    </tr>\n",
       "    <tr>\n",
       "      <th>23</th>\n",
       "      <td>I182070909</td>\n",
       "      <td>3803</td>\n",
       "      <td>Motor Vehicle Accident Response</td>\n",
       "      <td>M/V ACCIDENT - PERSONAL INJURY</td>\n",
       "      <td>E5</td>\n",
       "      <td>550</td>\n",
       "      <td>N</td>\n",
       "      <td>2018-09-03 18:33:00</td>\n",
       "      <td>2018</td>\n",
       "      <td>9</td>\n",
       "      <td>Monday</td>\n",
       "      <td>18</td>\n",
       "      <td>Part Three</td>\n",
       "      <td>WASHINGTON ST</td>\n",
       "      <td>42.275818</td>\n",
       "      <td>-71.139913</td>\n",
       "      <td>(42.27581799, -71.13991259)</td>\n",
       "      <td>M/V ACCIDENT - PERSONAL INJURY</td>\n",
       "    </tr>\n",
       "    <tr>\n",
       "      <th>44</th>\n",
       "      <td>I182070886</td>\n",
       "      <td>3802</td>\n",
       "      <td>Motor Vehicle Accident Response</td>\n",
       "      <td>M/V ACCIDENT - PROPERTY  DAMAGE</td>\n",
       "      <td>C11</td>\n",
       "      <td>402</td>\n",
       "      <td>N</td>\n",
       "      <td>2018-09-03 15:34:00</td>\n",
       "      <td>2018</td>\n",
       "      <td>9</td>\n",
       "      <td>Monday</td>\n",
       "      <td>15</td>\n",
       "      <td>Part Three</td>\n",
       "      <td>WASHINGTON ST</td>\n",
       "      <td>42.284926</td>\n",
       "      <td>-71.071353</td>\n",
       "      <td>(42.28492596, -71.07135254)</td>\n",
       "      <td>M/V ACCIDENT - PROPERTY ÊDAMAGE</td>\n",
       "    </tr>\n",
       "    <tr>\n",
       "      <th>46</th>\n",
       "      <td>I182070882</td>\n",
       "      <td>3801</td>\n",
       "      <td>Motor Vehicle Accident Response</td>\n",
       "      <td>M/V ACCIDENT - OTHER</td>\n",
       "      <td>B2</td>\n",
       "      <td>901</td>\n",
       "      <td>N</td>\n",
       "      <td>2018-09-03 15:00:00</td>\n",
       "      <td>2018</td>\n",
       "      <td>9</td>\n",
       "      <td>Monday</td>\n",
       "      <td>15</td>\n",
       "      <td>Part Three</td>\n",
       "      <td>WARD ST</td>\n",
       "      <td>42.335111</td>\n",
       "      <td>-71.095922</td>\n",
       "      <td>(42.33511145, -71.09592156)</td>\n",
       "      <td>M/V ACCIDENT - OTHER</td>\n",
       "    </tr>\n",
       "  </tbody>\n",
       "</table>\n",
       "</div>"
      ],
      "text/plain": [
       "   INCIDENT_NUMBER  OFFENSE_CODE               OFFENSE_CODE_GROUP  \\\n",
       "5       I182070936          3820  Motor Vehicle Accident Response   \n",
       "21      I182070911          3801  Motor Vehicle Accident Response   \n",
       "23      I182070909          3803  Motor Vehicle Accident Response   \n",
       "44      I182070886          3802  Motor Vehicle Accident Response   \n",
       "46      I182070882          3801  Motor Vehicle Accident Response   \n",
       "\n",
       "                           OFFENSE_DESCRIPTION DISTRICT REPORTING_AREA  \\\n",
       "5   M/V ACCIDENT INVOLVING PEDESTRIAN - INJURY      C11            398   \n",
       "21                        M/V ACCIDENT - OTHER       A1             69   \n",
       "23              M/V ACCIDENT - PERSONAL INJURY       E5            550   \n",
       "44             M/V ACCIDENT - PROPERTY  DAMAGE      C11            402   \n",
       "46                        M/V ACCIDENT - OTHER       B2            901   \n",
       "\n",
       "   SHOOTING    OCCURRED_ON_DATE  YEAR  MONTH DAY_OF_WEEK  HOUR    UCR_PART  \\\n",
       "5         N 2018-09-03 21:09:00  2018      9      Monday    21  Part Three   \n",
       "21        N 2018-09-03 18:30:00  2018      9      Monday    18  Part Three   \n",
       "23        N 2018-09-03 18:33:00  2018      9      Monday    18  Part Three   \n",
       "44        N 2018-09-03 15:34:00  2018      9      Monday    15  Part Three   \n",
       "46        N 2018-09-03 15:00:00  2018      9      Monday    15  Part Three   \n",
       "\n",
       "           STREET        Lat       Long                     Location  \\\n",
       "5      TALBOT AVE  42.290196 -71.071590  (42.29019621, -71.07159012)   \n",
       "21      BEACON ST  42.355644 -71.071681  (42.35564426, -71.07168077)   \n",
       "23  WASHINGTON ST  42.275818 -71.139913  (42.27581799, -71.13991259)   \n",
       "44  WASHINGTON ST  42.284926 -71.071353  (42.28492596, -71.07135254)   \n",
       "46        WARD ST  42.335111 -71.095922  (42.33511145, -71.09592156)   \n",
       "\n",
       "                                          NAME  \n",
       "5   M/V ACCIDENT INVOLVING PEDESTRIAN - INJURY  \n",
       "21                        M/V ACCIDENT - OTHER  \n",
       "23              M/V ACCIDENT - PERSONAL INJURY  \n",
       "44             M/V ACCIDENT - PROPERTY ÊDAMAGE  \n",
       "46                        M/V ACCIDENT - OTHER  "
      ]
     },
     "execution_count": 17,
     "metadata": {},
     "output_type": "execute_result"
    }
   ],
   "source": [
    "df_accidents = df_merged.loc[df_merged['OFFENSE_CODE'].isin(accidents['OFFENSE_CODE'])]\n",
    "df_accidents.head()"
   ]
  },
  {
   "cell_type": "code",
   "execution_count": 18,
   "id": "cb457a95",
   "metadata": {},
   "outputs": [
    {
     "data": {
      "text/plain": [
       "BLUE HILL AVE        673\n",
       "WASHINGTON ST        607\n",
       "DORCHESTER AVE       430\n",
       "COMMONWEALTH AVE     370\n",
       "CENTRE ST            327\n",
       "COLUMBIA RD          320\n",
       "HYDE PARK AVE        317\n",
       "MASSACHUSETTS AVE    317\n",
       "CAMBRIDGE ST         244\n",
       "COLUMBUS AVE         230\n",
       "Name: STREET, dtype: int64"
      ]
     },
     "execution_count": 18,
     "metadata": {},
     "output_type": "execute_result"
    }
   ],
   "source": [
    "# Top 10 Streets with M/V accidents\n",
    "mv_accident_count = df_accidents['STREET'].value_counts()\n",
    "mv_accident_count[:10]"
   ]
  },
  {
   "cell_type": "code",
   "execution_count": 39,
   "id": "1f6cf505",
   "metadata": {},
   "outputs": [
    {
     "data": {
      "image/png": "[encoded data removed]",
      "text/plain": [
       "<Figure size 432x288 with 1 Axes>"
      ]
     },
     "metadata": {
      "needs_background": "light"
     },
     "output_type": "display_data"
    }
   ],
   "source": [
    "top_streets = df_accidents[df_accidents['STREET'].isin(df_accidents['STREET'].value_counts().head(10).index)]\n",
    "\n",
    "# Plot the violin plot\n",
    "sns.violinplot(x='STREET', y='YEAR', data=top_streets)\n",
    "plt.xticks(rotation=90)\n",
    "# Show the plot\n",
    "plt.show()"
   ]
  },
  {
   "cell_type": "markdown",
   "id": "5ecf5a39",
   "metadata": {},
   "source": [
    "Most number of M/V accidents happened at the Blue Hill Ave - 673, followed by 607 in Washington St.\n"
   ]
  },
  {
   "cell_type": "markdown",
   "id": "323ab71e",
   "metadata": {},
   "source": [
    "## Question 3."
   ]
  },
  {
   "cell_type": "code",
   "execution_count": null,
   "id": "de59e8cc",
   "metadata": {},
   "outputs": [],
   "source": [
    "# for some crimes, locations are not mentioned\n",
    "print(df_merged['Lat'].isna().sum(), df_merged['Long'].isna().sum())\n"
   ]
  },
  {
   "cell_type": "code",
   "execution_count": null,
   "id": "9cbe3812",
   "metadata": {},
   "outputs": [],
   "source": [
    "# Drop the rows, since imputing will result in inaccuracies \n",
    "df_merged = df_merged.dropna(subset=['Lat', 'Long'])"
   ]
  },
  {
   "cell_type": "code",
   "execution_count": null,
   "id": "24bd3426",
   "metadata": {},
   "outputs": [],
   "source": [
    "# Aggregate the crime data by sector\n",
    "sector_groups = df_merged.groupby(\"DISTRICT\")\n",
    "sector_crime_counts = neighborhood_groups[\"DISTRICT\"].count()"
   ]
  },
  {
   "cell_type": "code",
   "execution_count": null,
   "id": "8d3ea8eb",
   "metadata": {},
   "outputs": [],
   "source": [
    "\n",
    "\n",
    "# Create a folium map centered on Boston\n",
    "boston_map = fl.Map(location= [42.290196,-71.071590], zoom_start=12)\n",
    "\n",
    "# Add markers for each neighborhood with the aggregated crime count\n",
    "for sector, crime_count in sector_crime_counts.items():\n",
    "    fl.CircleMarker(\n",
    "        location=[sector_groups.get_group(sector)[\"Lat\"].mean(), sector_groups.get_group(sector)[\"Long\"].mean()],\n",
    "        # set the marker size based on the crime count\n",
    "        radius=crime_count/2000, \n",
    "        fill = True,\n",
    "        tooltip=f\"{sector}: {crime_count} crimes\" \n",
    "    ).add_to(boston_map)\n",
    "\n",
    "boston_map"
   ]
  },
  {
   "cell_type": "code",
   "execution_count": null,
   "id": "eb50475b",
   "metadata": {},
   "outputs": [],
   "source": [
    "boston_map.save(\"boston_map.html\")"
   ]
  },
  {
   "cell_type": "markdown",
   "id": "90b274df",
   "metadata": {},
   "source": [
    "## Question 4"
   ]
  },
  {
   "cell_type": "code",
   "execution_count": 51,
   "id": "cf4d597c",
   "metadata": {},
   "outputs": [],
   "source": [
    "# Count the number of occurrences WRT HOUR\n",
    "hour_counts = df_merged[\"HOUR\"].value_counts().sort_values(ascending=False)\n",
    "# Count the number of occurrences WRT MONTH\n",
    "month_counts = df_merged[\"MONTH\"].value_counts().sort_values(ascending=False)\n",
    "# Count the number of occurrences WRT Day\n",
    "day_counts = df_merged[\"DAY_OF_WEEK\"].value_counts().sort_values(ascending=False)\n"
   ]
  },
  {
   "cell_type": "code",
   "execution_count": 52,
   "id": "ab8f4b14",
   "metadata": {
    "scrolled": false
   },
   "outputs": [
    {
     "data": {
      "text/plain": [
       "Text(0.5, 1.0, 'Number of Crimes by Day of Week')"
      ]
     },
     "execution_count": 52,
     "metadata": {},
     "output_type": "execute_result"
    },
    {
     "data": {
      "image/png": "[encoded data removed]",
      "text/plain": [
       "<Figure size 864x432 with 1 Axes>"
      ]
     },
     "metadata": {
      "needs_background": "light"
     },
     "output_type": "display_data"
    },
    {
     "data": {
      "image/png": "[encoded data removed]",
      "text/plain": [
       "<Figure size 864x432 with 1 Axes>"
      ]
     },
     "metadata": {
      "needs_background": "light"
     },
     "output_type": "display_data"
    },
    {
     "data": {
      "image/png": "[encoded data removed]",
      "text/plain": [
       "<Figure size 864x432 with 1 Axes>"
      ]
     },
     "metadata": {
      "needs_background": "light"
     },
     "output_type": "display_data"
    }
   ],
   "source": [
    "\n",
    "# Plot the number of crimes by hour\n",
    "plt.figure(figsize=(12,6))\n",
    "sns.lineplot(x=hour_counts.index, y=hour_counts.values)\n",
    "plt.xlabel(\"Hour\")\n",
    "plt.ylabel(\"Number of Crimes\")\n",
    "plt.title(\"Number of Crimes by Hour\")\n",
    "\n",
    "# Plot the number of crimes by Month\n",
    "plt.figure(figsize=(12,6))\n",
    "sns.lineplot(x=month_counts.index, y=month_counts.values)\n",
    "plt.xlabel(\"Month\")\n",
    "plt.ylabel(\"Number of Crimes\")\n",
    "plt.title(\"Number of Crimes by Month\")\n",
    "\n",
    "\n",
    "# Plot the number of crimes by Day\n",
    "plt.figure(figsize=(12,6))\n",
    "sns.lineplot(x=day_counts.index, y=day_counts.values)\n",
    "plt.xlabel(\"DAY of Week\")\n",
    "plt.ylabel(\"Number of Crimes\")\n",
    "plt.title(\"Number of Crimes by Day of Week\")\n",
    "\n"
   ]
  },
  {
   "cell_type": "markdown",
   "id": "3d37ec25",
   "metadata": {},
   "source": [
    "# PROBLEM 3"
   ]
  },
  {
   "cell_type": "code",
   "execution_count": 275,
   "id": "832e7ef9",
   "metadata": {},
   "outputs": [
    {
     "data": {
      "text/html": [
       "<div>\n",
       "<style scoped>\n",
       "    .dataframe tbody tr th:only-of-type {\n",
       "        vertical-align: middle;\n",
       "    }\n",
       "\n",
       "    .dataframe tbody tr th {\n",
       "        vertical-align: top;\n",
       "    }\n",
       "\n",
       "    .dataframe thead th {\n",
       "        text-align: right;\n",
       "    }\n",
       "</style>\n",
       "<table border=\"1\" class=\"dataframe\">\n",
       "  <thead>\n",
       "    <tr style=\"text-align: right;\">\n",
       "      <th></th>\n",
       "      <th>ID</th>\n",
       "      <th>Age</th>\n",
       "      <th>Gender</th>\n",
       "      <th>Education</th>\n",
       "      <th>Country</th>\n",
       "      <th>Ethnicity</th>\n",
       "      <th>Nscore</th>\n",
       "      <th>Escore</th>\n",
       "      <th>Oscore</th>\n",
       "      <th>AScore</th>\n",
       "      <th>...</th>\n",
       "      <th>Ecstasy</th>\n",
       "      <th>Heroin</th>\n",
       "      <th>Ketamine</th>\n",
       "      <th>Legalh</th>\n",
       "      <th>LSD</th>\n",
       "      <th>Meth</th>\n",
       "      <th>Mushrooms</th>\n",
       "      <th>Nicotine</th>\n",
       "      <th>Semer</th>\n",
       "      <th>VSA</th>\n",
       "    </tr>\n",
       "  </thead>\n",
       "  <tbody>\n",
       "    <tr>\n",
       "      <th>0</th>\n",
       "      <td>2</td>\n",
       "      <td>25-34</td>\n",
       "      <td>M</td>\n",
       "      <td>Doctorate degree</td>\n",
       "      <td>UK</td>\n",
       "      <td>White</td>\n",
       "      <td>-0.67825</td>\n",
       "      <td>1.93886</td>\n",
       "      <td>1.43533</td>\n",
       "      <td>0.76096</td>\n",
       "      <td>...</td>\n",
       "      <td>CL4</td>\n",
       "      <td>CL0</td>\n",
       "      <td>CL2</td>\n",
       "      <td>CL0</td>\n",
       "      <td>CL2</td>\n",
       "      <td>CL3</td>\n",
       "      <td>CL0</td>\n",
       "      <td>CL4</td>\n",
       "      <td>CL0</td>\n",
       "      <td>CL0</td>\n",
       "    </tr>\n",
       "    <tr>\n",
       "      <th>1</th>\n",
       "      <td>3</td>\n",
       "      <td>35-44</td>\n",
       "      <td>M</td>\n",
       "      <td>Professional certificate/ diploma</td>\n",
       "      <td>UK</td>\n",
       "      <td>White</td>\n",
       "      <td>-0.46725</td>\n",
       "      <td>0.80523</td>\n",
       "      <td>-0.84732</td>\n",
       "      <td>-1.62090</td>\n",
       "      <td>...</td>\n",
       "      <td>CL0</td>\n",
       "      <td>CL0</td>\n",
       "      <td>CL0</td>\n",
       "      <td>CL0</td>\n",
       "      <td>CL0</td>\n",
       "      <td>CL0</td>\n",
       "      <td>CL1</td>\n",
       "      <td>CL0</td>\n",
       "      <td>CL0</td>\n",
       "      <td>CL0</td>\n",
       "    </tr>\n",
       "    <tr>\n",
       "      <th>2</th>\n",
       "      <td>4</td>\n",
       "      <td>18-24</td>\n",
       "      <td>F</td>\n",
       "      <td>Masters degree</td>\n",
       "      <td>UK</td>\n",
       "      <td>White</td>\n",
       "      <td>-0.14882</td>\n",
       "      <td>-0.80615</td>\n",
       "      <td>-0.01928</td>\n",
       "      <td>0.59042</td>\n",
       "      <td>...</td>\n",
       "      <td>CL0</td>\n",
       "      <td>CL0</td>\n",
       "      <td>CL2</td>\n",
       "      <td>CL0</td>\n",
       "      <td>CL0</td>\n",
       "      <td>CL0</td>\n",
       "      <td>CL0</td>\n",
       "      <td>CL2</td>\n",
       "      <td>CL0</td>\n",
       "      <td>CL0</td>\n",
       "    </tr>\n",
       "    <tr>\n",
       "      <th>3</th>\n",
       "      <td>5</td>\n",
       "      <td>35-44</td>\n",
       "      <td>F</td>\n",
       "      <td>Doctorate degree</td>\n",
       "      <td>UK</td>\n",
       "      <td>White</td>\n",
       "      <td>0.73545</td>\n",
       "      <td>-1.63340</td>\n",
       "      <td>-0.45174</td>\n",
       "      <td>-0.30172</td>\n",
       "      <td>...</td>\n",
       "      <td>CL1</td>\n",
       "      <td>CL0</td>\n",
       "      <td>CL0</td>\n",
       "      <td>CL1</td>\n",
       "      <td>CL0</td>\n",
       "      <td>CL0</td>\n",
       "      <td>CL2</td>\n",
       "      <td>CL2</td>\n",
       "      <td>CL0</td>\n",
       "      <td>CL0</td>\n",
       "    </tr>\n",
       "    <tr>\n",
       "      <th>4</th>\n",
       "      <td>6</td>\n",
       "      <td>65+</td>\n",
       "      <td>F</td>\n",
       "      <td>Left school at 18 years</td>\n",
       "      <td>Canada</td>\n",
       "      <td>White</td>\n",
       "      <td>-0.67825</td>\n",
       "      <td>-0.30033</td>\n",
       "      <td>-1.55521</td>\n",
       "      <td>2.03972</td>\n",
       "      <td>...</td>\n",
       "      <td>CL0</td>\n",
       "      <td>CL0</td>\n",
       "      <td>CL0</td>\n",
       "      <td>CL0</td>\n",
       "      <td>CL0</td>\n",
       "      <td>CL0</td>\n",
       "      <td>CL0</td>\n",
       "      <td>CL6</td>\n",
       "      <td>CL0</td>\n",
       "      <td>CL0</td>\n",
       "    </tr>\n",
       "  </tbody>\n",
       "</table>\n",
       "<p>5 rows × 32 columns</p>\n",
       "</div>"
      ],
      "text/plain": [
       "   ID    Age Gender                          Education Country Ethnicity  \\\n",
       "0   2  25-34      M                   Doctorate degree      UK     White   \n",
       "1   3  35-44      M  Professional certificate/ diploma      UK     White   \n",
       "2   4  18-24      F                     Masters degree      UK     White   \n",
       "3   5  35-44      F                   Doctorate degree      UK     White   \n",
       "4   6    65+      F            Left school at 18 years  Canada     White   \n",
       "\n",
       "    Nscore   Escore   Oscore   AScore  ...  Ecstasy  Heroin  Ketamine Legalh  \\\n",
       "0 -0.67825  1.93886  1.43533  0.76096  ...      CL4     CL0       CL2    CL0   \n",
       "1 -0.46725  0.80523 -0.84732 -1.62090  ...      CL0     CL0       CL0    CL0   \n",
       "2 -0.14882 -0.80615 -0.01928  0.59042  ...      CL0     CL0       CL2    CL0   \n",
       "3  0.73545 -1.63340 -0.45174 -0.30172  ...      CL1     CL0       CL0    CL1   \n",
       "4 -0.67825 -0.30033 -1.55521  2.03972  ...      CL0     CL0       CL0    CL0   \n",
       "\n",
       "   LSD Meth Mushrooms Nicotine Semer  VSA  \n",
       "0  CL2  CL3       CL0      CL4   CL0  CL0  \n",
       "1  CL0  CL0       CL1      CL0   CL0  CL0  \n",
       "2  CL0  CL0       CL0      CL2   CL0  CL0  \n",
       "3  CL0  CL0       CL2      CL2   CL0  CL0  \n",
       "4  CL0  CL0       CL0      CL6   CL0  CL0  \n",
       "\n",
       "[5 rows x 32 columns]"
      ]
     },
     "execution_count": 275,
     "metadata": {},
     "output_type": "execute_result"
    }
   ],
   "source": [
    "df_drugs = pd.read_csv(\"drug_data/drug_consumption_data.csv\")\n",
    "df_drugs.head()"
   ]
  },
  {
   "cell_type": "code",
   "execution_count": 276,
   "id": "b9d8dbcf",
   "metadata": {},
   "outputs": [
    {
     "name": "stdout",
     "output_type": "stream",
     "text": [
      "<class 'pandas.core.frame.DataFrame'>\n",
      "RangeIndex: 1884 entries, 0 to 1883\n",
      "Data columns (total 32 columns):\n",
      " #   Column     Non-Null Count  Dtype  \n",
      "---  ------     --------------  -----  \n",
      " 0   ID         1884 non-null   int64  \n",
      " 1   Age        1884 non-null   object \n",
      " 2   Gender     1884 non-null   object \n",
      " 3   Education  1884 non-null   object \n",
      " 4   Country    1884 non-null   object \n",
      " 5   Ethnicity  1884 non-null   object \n",
      " 6   Nscore     1884 non-null   float64\n",
      " 7   Escore     1884 non-null   float64\n",
      " 8   Oscore     1884 non-null   float64\n",
      " 9   AScore     1884 non-null   float64\n",
      " 10  Cscore     1884 non-null   float64\n",
      " 11  Impulsive  1884 non-null   float64\n",
      " 12  SS         1884 non-null   float64\n",
      " 13  Alcohol    1884 non-null   object \n",
      " 14  Amphet     1884 non-null   object \n",
      " 15  Amyl       1884 non-null   object \n",
      " 16  Benzos     1884 non-null   object \n",
      " 17  Caff       1884 non-null   object \n",
      " 18  Cannabis   1884 non-null   object \n",
      " 19  Choc       1884 non-null   object \n",
      " 20  Coke       1884 non-null   object \n",
      " 21  Crack      1884 non-null   object \n",
      " 22  Ecstasy    1884 non-null   object \n",
      " 23  Heroin     1884 non-null   object \n",
      " 24  Ketamine   1884 non-null   object \n",
      " 25  Legalh     1884 non-null   object \n",
      " 26  LSD        1884 non-null   object \n",
      " 27  Meth       1884 non-null   object \n",
      " 28  Mushrooms  1884 non-null   object \n",
      " 29  Nicotine   1884 non-null   object \n",
      " 30  Semer      1884 non-null   object \n",
      " 31  VSA        1884 non-null   object \n",
      "dtypes: float64(7), int64(1), object(24)\n",
      "memory usage: 471.1+ KB\n"
     ]
    }
   ],
   "source": [
    "df_drugs.info()"
   ]
  },
  {
   "cell_type": "code",
   "execution_count": 277,
   "id": "e13d300b",
   "metadata": {},
   "outputs": [],
   "source": [
    "# drop ID field\n",
    "df_drugs = df_drugs.drop('ID', axis=1)"
   ]
  },
  {
   "cell_type": "code",
   "execution_count": 278,
   "id": "eebd4e95",
   "metadata": {},
   "outputs": [
    {
     "data": {
      "text/plain": [
       "Index(['Age', 'Gender', 'Education', 'Country', 'Ethnicity', 'Nscore',\n",
       "       'Escore', 'Oscore', 'AScore', 'Cscore', 'Impulsive', 'SS', 'Alcohol',\n",
       "       'Amphet', 'Amyl', 'Benzos', 'Caff', 'Cannabis', 'Choc', 'Coke', 'Crack',\n",
       "       'Ecstasy', 'Heroin', 'Ketamine', 'Legalh', 'LSD', 'Meth', 'Mushrooms',\n",
       "       'Nicotine', 'Semer', 'VSA'],\n",
       "      dtype='object')"
      ]
     },
     "execution_count": 278,
     "metadata": {},
     "output_type": "execute_result"
    }
   ],
   "source": [
    "df_drugs.columns"
   ]
  },
  {
   "cell_type": "code",
   "execution_count": 279,
   "id": "e26580bc",
   "metadata": {},
   "outputs": [],
   "source": [
    "def convert_ratings(x):\n",
    "  ratings = {\"CL0\":0,\"CL1\":1,\"CL2\":2,\"CL3\":3,\"CL4\":4,\"CL5\":5,\"CL6\":6}\n",
    "  if x in ratings.keys():\n",
    "    return ratings[x]\n",
    "\n",
    "drugcols = ['Alcohol',\n",
    "       'Amphet', 'Amyl', 'Benzos', 'Caff', 'Cannabis', 'Choc', 'Coke', 'Crack',\n",
    "       'Ecstasy', 'Heroin', 'Ketamine', 'Legalh', 'LSD', 'Meth', 'Mushrooms',\n",
    "       'Nicotine', 'Semer', 'VSA']\n",
    "for i in drugcols:\n",
    "  df_drugs[i] = df_drugs[i].apply(lambda x:convert_ratings(x)) \n",
    "\n"
   ]
  },
  {
   "cell_type": "code",
   "execution_count": 280,
   "id": "ce1afe5a",
   "metadata": {},
   "outputs": [
    {
     "data": {
      "text/html": [
       "<div>\n",
       "<style scoped>\n",
       "    .dataframe tbody tr th:only-of-type {\n",
       "        vertical-align: middle;\n",
       "    }\n",
       "\n",
       "    .dataframe tbody tr th {\n",
       "        vertical-align: top;\n",
       "    }\n",
       "\n",
       "    .dataframe thead th {\n",
       "        text-align: right;\n",
       "    }\n",
       "</style>\n",
       "<table border=\"1\" class=\"dataframe\">\n",
       "  <thead>\n",
       "    <tr style=\"text-align: right;\">\n",
       "      <th></th>\n",
       "      <th>Age</th>\n",
       "      <th>Gender</th>\n",
       "      <th>Education</th>\n",
       "      <th>Country</th>\n",
       "      <th>Ethnicity</th>\n",
       "      <th>Nscore</th>\n",
       "      <th>Escore</th>\n",
       "      <th>Oscore</th>\n",
       "      <th>AScore</th>\n",
       "      <th>Cscore</th>\n",
       "      <th>...</th>\n",
       "      <th>Ecstasy</th>\n",
       "      <th>Heroin</th>\n",
       "      <th>Ketamine</th>\n",
       "      <th>Legalh</th>\n",
       "      <th>LSD</th>\n",
       "      <th>Meth</th>\n",
       "      <th>Mushrooms</th>\n",
       "      <th>Nicotine</th>\n",
       "      <th>Semer</th>\n",
       "      <th>VSA</th>\n",
       "    </tr>\n",
       "  </thead>\n",
       "  <tbody>\n",
       "    <tr>\n",
       "      <th>0</th>\n",
       "      <td>25-34</td>\n",
       "      <td>M</td>\n",
       "      <td>Doctorate degree</td>\n",
       "      <td>UK</td>\n",
       "      <td>White</td>\n",
       "      <td>-0.67825</td>\n",
       "      <td>1.93886</td>\n",
       "      <td>1.43533</td>\n",
       "      <td>0.76096</td>\n",
       "      <td>-0.14277</td>\n",
       "      <td>...</td>\n",
       "      <td>4</td>\n",
       "      <td>0</td>\n",
       "      <td>2</td>\n",
       "      <td>0</td>\n",
       "      <td>2</td>\n",
       "      <td>3</td>\n",
       "      <td>0</td>\n",
       "      <td>4</td>\n",
       "      <td>0</td>\n",
       "      <td>0</td>\n",
       "    </tr>\n",
       "    <tr>\n",
       "      <th>1</th>\n",
       "      <td>35-44</td>\n",
       "      <td>M</td>\n",
       "      <td>Professional certificate/ diploma</td>\n",
       "      <td>UK</td>\n",
       "      <td>White</td>\n",
       "      <td>-0.46725</td>\n",
       "      <td>0.80523</td>\n",
       "      <td>-0.84732</td>\n",
       "      <td>-1.62090</td>\n",
       "      <td>-1.01450</td>\n",
       "      <td>...</td>\n",
       "      <td>0</td>\n",
       "      <td>0</td>\n",
       "      <td>0</td>\n",
       "      <td>0</td>\n",
       "      <td>0</td>\n",
       "      <td>0</td>\n",
       "      <td>1</td>\n",
       "      <td>0</td>\n",
       "      <td>0</td>\n",
       "      <td>0</td>\n",
       "    </tr>\n",
       "    <tr>\n",
       "      <th>2</th>\n",
       "      <td>18-24</td>\n",
       "      <td>F</td>\n",
       "      <td>Masters degree</td>\n",
       "      <td>UK</td>\n",
       "      <td>White</td>\n",
       "      <td>-0.14882</td>\n",
       "      <td>-0.80615</td>\n",
       "      <td>-0.01928</td>\n",
       "      <td>0.59042</td>\n",
       "      <td>0.58489</td>\n",
       "      <td>...</td>\n",
       "      <td>0</td>\n",
       "      <td>0</td>\n",
       "      <td>2</td>\n",
       "      <td>0</td>\n",
       "      <td>0</td>\n",
       "      <td>0</td>\n",
       "      <td>0</td>\n",
       "      <td>2</td>\n",
       "      <td>0</td>\n",
       "      <td>0</td>\n",
       "    </tr>\n",
       "    <tr>\n",
       "      <th>3</th>\n",
       "      <td>35-44</td>\n",
       "      <td>F</td>\n",
       "      <td>Doctorate degree</td>\n",
       "      <td>UK</td>\n",
       "      <td>White</td>\n",
       "      <td>0.73545</td>\n",
       "      <td>-1.63340</td>\n",
       "      <td>-0.45174</td>\n",
       "      <td>-0.30172</td>\n",
       "      <td>1.30612</td>\n",
       "      <td>...</td>\n",
       "      <td>1</td>\n",
       "      <td>0</td>\n",
       "      <td>0</td>\n",
       "      <td>1</td>\n",
       "      <td>0</td>\n",
       "      <td>0</td>\n",
       "      <td>2</td>\n",
       "      <td>2</td>\n",
       "      <td>0</td>\n",
       "      <td>0</td>\n",
       "    </tr>\n",
       "    <tr>\n",
       "      <th>4</th>\n",
       "      <td>65+</td>\n",
       "      <td>F</td>\n",
       "      <td>Left school at 18 years</td>\n",
       "      <td>Canada</td>\n",
       "      <td>White</td>\n",
       "      <td>-0.67825</td>\n",
       "      <td>-0.30033</td>\n",
       "      <td>-1.55521</td>\n",
       "      <td>2.03972</td>\n",
       "      <td>1.63088</td>\n",
       "      <td>...</td>\n",
       "      <td>0</td>\n",
       "      <td>0</td>\n",
       "      <td>0</td>\n",
       "      <td>0</td>\n",
       "      <td>0</td>\n",
       "      <td>0</td>\n",
       "      <td>0</td>\n",
       "      <td>6</td>\n",
       "      <td>0</td>\n",
       "      <td>0</td>\n",
       "    </tr>\n",
       "  </tbody>\n",
       "</table>\n",
       "<p>5 rows × 31 columns</p>\n",
       "</div>"
      ],
      "text/plain": [
       "     Age Gender                          Education Country Ethnicity   Nscore  \\\n",
       "0  25-34      M                   Doctorate degree      UK     White -0.67825   \n",
       "1  35-44      M  Professional certificate/ diploma      UK     White -0.46725   \n",
       "2  18-24      F                     Masters degree      UK     White -0.14882   \n",
       "3  35-44      F                   Doctorate degree      UK     White  0.73545   \n",
       "4    65+      F            Left school at 18 years  Canada     White -0.67825   \n",
       "\n",
       "    Escore   Oscore   AScore   Cscore  ...  Ecstasy  Heroin  Ketamine  Legalh  \\\n",
       "0  1.93886  1.43533  0.76096 -0.14277  ...        4       0         2       0   \n",
       "1  0.80523 -0.84732 -1.62090 -1.01450  ...        0       0         0       0   \n",
       "2 -0.80615 -0.01928  0.59042  0.58489  ...        0       0         2       0   \n",
       "3 -1.63340 -0.45174 -0.30172  1.30612  ...        1       0         0       1   \n",
       "4 -0.30033 -1.55521  2.03972  1.63088  ...        0       0         0       0   \n",
       "\n",
       "   LSD  Meth  Mushrooms  Nicotine  Semer  VSA  \n",
       "0    2     3          0         4      0    0  \n",
       "1    0     0          1         0      0    0  \n",
       "2    0     0          0         2      0    0  \n",
       "3    0     0          2         2      0    0  \n",
       "4    0     0          0         6      0    0  \n",
       "\n",
       "[5 rows x 31 columns]"
      ]
     },
     "execution_count": 280,
     "metadata": {},
     "output_type": "execute_result"
    }
   ],
   "source": [
    "df_drugs.head()"
   ]
  },
  {
   "cell_type": "markdown",
   "id": "fb1379f5",
   "metadata": {},
   "source": [
    "## Question 1"
   ]
  },
  {
   "cell_type": "markdown",
   "id": "06e848ea",
   "metadata": {},
   "source": [
    "For 5 drugs of your choice, show the distribution of the ratings (CL0 to CL6) in a single image using\n",
    "box plots. Do you find any relations of the drugs you have chosen with the ratings? Which drug is\n",
    "being used the most in recent times?"
   ]
  },
  {
   "cell_type": "code",
   "execution_count": 281,
   "id": "c702bb24",
   "metadata": {},
   "outputs": [
    {
     "data": {
      "image/png": "[encoded data removed]",
      "text/plain": [
       "<Figure size 936x720 with 1 Axes>"
      ]
     },
     "metadata": {},
     "output_type": "display_data"
    }
   ],
   "source": [
    "drugs = ['Alcohol',\n",
    "        'Caff', 'Cannabis', \n",
    "       'Ecstasy',  'LSD', \n",
    "       'Nicotine']\n",
    "sns.boxplot(data = df_drugs[drugs])\n",
    "plt.yticks(ticks = [0,1,2,3,4,5,6],labels=[\"CL0\",\"CL1\",\"CL2\",\"CL3\",\"CL4\",\"CL5\",\"CL6\"])\n",
    "plt.show()"
   ]
  },
  {
   "cell_type": "markdown",
   "id": "a666f2ca",
   "metadata": {},
   "source": [
    "We notice that Caff has been used the most in recent times, median rating being C6 and majority of the data being in CL5-CL6. Nicotine is being used fronm quite a long time from CL1 to CL6 with median data on CL3. \n",
    "Caff, LSD, Ecstacy are skewed. Caff towards CL6 and Ecstacy and LSD towards CL0.\n",
    "Cannabis is also used majorly from CL1 to CL5, ie, ranging from use since a decade till last week. \n",
    "\n"
   ]
  },
  {
   "cell_type": "markdown",
   "id": "dd720324",
   "metadata": {},
   "source": [
    "## Question 2"
   ]
  },
  {
   "cell_type": "markdown",
   "id": "16da9d16",
   "metadata": {},
   "source": [
    "Mine this data to find out if there is a preferred list of drugs for females? Do females take less illegal\n",
    "drugs/no drugs at all than males? Mention your assumption about which drugs you are considering\n",
    "illegal. Describe your answers with suitable visualizations."
   ]
  },
  {
   "cell_type": "code",
   "execution_count": 282,
   "id": "3b34f748",
   "metadata": {
    "scrolled": true
   },
   "outputs": [
    {
     "data": {
      "text/html": [
       "<div>\n",
       "<style scoped>\n",
       "    .dataframe tbody tr th:only-of-type {\n",
       "        vertical-align: middle;\n",
       "    }\n",
       "\n",
       "    .dataframe tbody tr th {\n",
       "        vertical-align: top;\n",
       "    }\n",
       "\n",
       "    .dataframe thead th {\n",
       "        text-align: right;\n",
       "    }\n",
       "</style>\n",
       "<table border=\"1\" class=\"dataframe\">\n",
       "  <thead>\n",
       "    <tr style=\"text-align: right;\">\n",
       "      <th></th>\n",
       "      <th>Age</th>\n",
       "      <th>Gender</th>\n",
       "      <th>Education</th>\n",
       "      <th>Country</th>\n",
       "      <th>Ethnicity</th>\n",
       "      <th>Nscore</th>\n",
       "      <th>Escore</th>\n",
       "      <th>Oscore</th>\n",
       "      <th>AScore</th>\n",
       "      <th>Cscore</th>\n",
       "      <th>...</th>\n",
       "      <th>Ecstasy</th>\n",
       "      <th>Heroin</th>\n",
       "      <th>Ketamine</th>\n",
       "      <th>Legalh</th>\n",
       "      <th>LSD</th>\n",
       "      <th>Meth</th>\n",
       "      <th>Mushrooms</th>\n",
       "      <th>Nicotine</th>\n",
       "      <th>Semer</th>\n",
       "      <th>VSA</th>\n",
       "    </tr>\n",
       "  </thead>\n",
       "  <tbody>\n",
       "    <tr>\n",
       "      <th>2</th>\n",
       "      <td>18-24</td>\n",
       "      <td>F</td>\n",
       "      <td>Masters degree</td>\n",
       "      <td>UK</td>\n",
       "      <td>White</td>\n",
       "      <td>-0.14882</td>\n",
       "      <td>-0.80615</td>\n",
       "      <td>-0.01928</td>\n",
       "      <td>0.59042</td>\n",
       "      <td>0.58489</td>\n",
       "      <td>...</td>\n",
       "      <td>0</td>\n",
       "      <td>0</td>\n",
       "      <td>2</td>\n",
       "      <td>0</td>\n",
       "      <td>0</td>\n",
       "      <td>0</td>\n",
       "      <td>0</td>\n",
       "      <td>2</td>\n",
       "      <td>0</td>\n",
       "      <td>0</td>\n",
       "    </tr>\n",
       "    <tr>\n",
       "      <th>3</th>\n",
       "      <td>35-44</td>\n",
       "      <td>F</td>\n",
       "      <td>Doctorate degree</td>\n",
       "      <td>UK</td>\n",
       "      <td>White</td>\n",
       "      <td>0.73545</td>\n",
       "      <td>-1.63340</td>\n",
       "      <td>-0.45174</td>\n",
       "      <td>-0.30172</td>\n",
       "      <td>1.30612</td>\n",
       "      <td>...</td>\n",
       "      <td>1</td>\n",
       "      <td>0</td>\n",
       "      <td>0</td>\n",
       "      <td>1</td>\n",
       "      <td>0</td>\n",
       "      <td>0</td>\n",
       "      <td>2</td>\n",
       "      <td>2</td>\n",
       "      <td>0</td>\n",
       "      <td>0</td>\n",
       "    </tr>\n",
       "    <tr>\n",
       "      <th>4</th>\n",
       "      <td>65+</td>\n",
       "      <td>F</td>\n",
       "      <td>Left school at 18 years</td>\n",
       "      <td>Canada</td>\n",
       "      <td>White</td>\n",
       "      <td>-0.67825</td>\n",
       "      <td>-0.30033</td>\n",
       "      <td>-1.55521</td>\n",
       "      <td>2.03972</td>\n",
       "      <td>1.63088</td>\n",
       "      <td>...</td>\n",
       "      <td>0</td>\n",
       "      <td>0</td>\n",
       "      <td>0</td>\n",
       "      <td>0</td>\n",
       "      <td>0</td>\n",
       "      <td>0</td>\n",
       "      <td>0</td>\n",
       "      <td>6</td>\n",
       "      <td>0</td>\n",
       "      <td>0</td>\n",
       "    </tr>\n",
       "    <tr>\n",
       "      <th>7</th>\n",
       "      <td>35-44</td>\n",
       "      <td>F</td>\n",
       "      <td>Professional certificate/ diploma</td>\n",
       "      <td>Canada</td>\n",
       "      <td>White</td>\n",
       "      <td>0.62967</td>\n",
       "      <td>2.57309</td>\n",
       "      <td>-0.97631</td>\n",
       "      <td>0.76096</td>\n",
       "      <td>1.13407</td>\n",
       "      <td>...</td>\n",
       "      <td>0</td>\n",
       "      <td>0</td>\n",
       "      <td>0</td>\n",
       "      <td>0</td>\n",
       "      <td>0</td>\n",
       "      <td>0</td>\n",
       "      <td>0</td>\n",
       "      <td>6</td>\n",
       "      <td>0</td>\n",
       "      <td>0</td>\n",
       "    </tr>\n",
       "    <tr>\n",
       "      <th>9</th>\n",
       "      <td>25-34</td>\n",
       "      <td>F</td>\n",
       "      <td>University degree</td>\n",
       "      <td>UK</td>\n",
       "      <td>White</td>\n",
       "      <td>-1.05308</td>\n",
       "      <td>0.80523</td>\n",
       "      <td>-1.11902</td>\n",
       "      <td>-0.76096</td>\n",
       "      <td>1.81175</td>\n",
       "      <td>...</td>\n",
       "      <td>0</td>\n",
       "      <td>0</td>\n",
       "      <td>0</td>\n",
       "      <td>0</td>\n",
       "      <td>0</td>\n",
       "      <td>0</td>\n",
       "      <td>0</td>\n",
       "      <td>2</td>\n",
       "      <td>0</td>\n",
       "      <td>1</td>\n",
       "    </tr>\n",
       "  </tbody>\n",
       "</table>\n",
       "<p>5 rows × 31 columns</p>\n",
       "</div>"
      ],
      "text/plain": [
       "     Age Gender                          Education Country Ethnicity   Nscore  \\\n",
       "2  18-24      F                     Masters degree      UK     White -0.14882   \n",
       "3  35-44      F                   Doctorate degree      UK     White  0.73545   \n",
       "4    65+      F            Left school at 18 years  Canada     White -0.67825   \n",
       "7  35-44      F  Professional certificate/ diploma  Canada     White  0.62967   \n",
       "9  25-34      F                  University degree      UK     White -1.05308   \n",
       "\n",
       "    Escore   Oscore   AScore   Cscore  ...  Ecstasy  Heroin  Ketamine  Legalh  \\\n",
       "2 -0.80615 -0.01928  0.59042  0.58489  ...        0       0         2       0   \n",
       "3 -1.63340 -0.45174 -0.30172  1.30612  ...        1       0         0       1   \n",
       "4 -0.30033 -1.55521  2.03972  1.63088  ...        0       0         0       0   \n",
       "7  2.57309 -0.97631  0.76096  1.13407  ...        0       0         0       0   \n",
       "9  0.80523 -1.11902 -0.76096  1.81175  ...        0       0         0       0   \n",
       "\n",
       "   LSD  Meth  Mushrooms  Nicotine  Semer  VSA  \n",
       "2    0     0          0         2      0    0  \n",
       "3    0     0          2         2      0    0  \n",
       "4    0     0          0         6      0    0  \n",
       "7    0     0          0         6      0    0  \n",
       "9    0     0          0         2      0    1  \n",
       "\n",
       "[5 rows x 31 columns]"
      ]
     },
     "execution_count": 282,
     "metadata": {},
     "output_type": "execute_result"
    }
   ],
   "source": [
    "df_drug_f =  df_drugs[df_drugs['Gender']=='F']\n",
    "df_drug_f.head()"
   ]
  },
  {
   "cell_type": "code",
   "execution_count": 283,
   "id": "b8d63800",
   "metadata": {},
   "outputs": [
    {
     "data": {
      "text/plain": [
       "Alcohol      926\n",
       "Caff         924\n",
       "Choc         924\n",
       "Nicotine     666\n",
       "Cannabis     646\n",
       "Benzos       381\n",
       "Amphet       346\n",
       "Coke         346\n",
       "Mushrooms    334\n",
       "Ecstasy      328\n",
       "LSD          288\n",
       "Legalh       246\n",
       "Amyl         229\n",
       "VSA          161\n",
       "Meth         153\n",
       "Ketamine     126\n",
       "Heroin        97\n",
       "Crack         91\n",
       "Semer          5\n",
       "dtype: int64"
      ]
     },
     "execution_count": 283,
     "metadata": {},
     "output_type": "execute_result"
    }
   ],
   "source": [
    "df_total_f = (~(df_drug_f[drugcols] == 0)).sum().sort_values(ascending=False)\n",
    "df_total_f\n",
    "\n"
   ]
  },
  {
   "cell_type": "code",
   "execution_count": 284,
   "id": "cca89395",
   "metadata": {},
   "outputs": [
    {
     "data": {
      "image/png": "[encoded data removed]",
      "text/plain": [
       "<Figure size 936x720 with 1 Axes>"
      ]
     },
     "metadata": {},
     "output_type": "display_data"
    }
   ],
   "source": [
    "# Plot the bar plot\n",
    "plt.bar(df_total_f.index, df_total_f.values)\n",
    "plt.xlabel(\"Drug Type\")\n",
    "plt.ylabel(\"Number of Occurrences\")\n",
    "plt.title(\"Preference of Women\")\n",
    "plt.xticks(rotation=90)\n",
    "plt.show()"
   ]
  },
  {
   "cell_type": "markdown",
   "id": "92147dbf",
   "metadata": {},
   "source": [
    "Alcohol, Caff, Choc seems to be the most popular choice for female, followed by Nicotine, Cannabis among rest of drugs.\n",
    "\n",
    "We assume that drugs like alcohol, nicotine, caff, choc, amphet are legal. ALthough other drugs may also be legal depending on the country or state"
   ]
  },
  {
   "cell_type": "code",
   "execution_count": 285,
   "id": "99828cad",
   "metadata": {},
   "outputs": [
    {
     "data": {
      "image/png": "[encoded data removed]",
      "text/plain": [
       "<Figure size 936x720 with 1 Axes>"
      ]
     },
     "metadata": {},
     "output_type": "display_data"
    }
   ],
   "source": [
    "illegal_drugs = [ 'Amyl', 'Benzos', 'Cannabis',  'Coke', 'Crack',\n",
    "       'Ecstasy', 'Heroin', 'Ketamine', 'Legalh', 'LSD', 'Meth', 'Mushrooms',\n",
    "       'Nicotine', 'VSA']\n",
    "# percemtage of females using iklegal drugs\n",
    "df_illegal_f = ((~(df_drug_f[illegal_drugs] == 0)).sum().sum()/df_total_f.sum())*100\n",
    "df_drug_m =  df_drugs[df_drugs['Gender']=='M']\n",
    "df_total_m = (~(df_drug_m[drugcols] == 0)).sum().sort_values(ascending=False)\n",
    "df_illegal_m = ((~(df_drug_m[illegal_drugs] == 0)).sum().sum()/df_total_m.sum())*100\n",
    "plt.pie([df_illegal_m, df_illegal_f], labels=['Illegal drugs consumed by Males','Illegal drugs consumed by Females'], autopct='%1.1f%%')\n",
    "plt.title('Illegal drugs consumed by Males vs females')\n",
    "\n",
    "plt.show()"
   ]
  },
  {
   "cell_type": "markdown",
   "id": "70b03332",
   "metadata": {},
   "source": [
    "Females relatitively take less illegal drugs when comapred to men who take around 7.2% more than females."
   ]
  },
  {
   "cell_type": "markdown",
   "id": "4c1f5afe",
   "metadata": {},
   "source": [
    "## Question 3"
   ]
  },
  {
   "cell_type": "markdown",
   "id": "95d2f4d8",
   "metadata": {},
   "source": [
    "Visualize the correlation map among the drugs and the 12 personality measurement attributes. Do\n",
    "you find any significant correlation among the drugs?"
   ]
  },
  {
   "cell_type": "code",
   "execution_count": 286,
   "id": "8115d022",
   "metadata": {},
   "outputs": [
    {
     "data": {
      "image/png": "[encoded data removed]",
      "text/plain": [
       "<Figure size 936x720 with 2 Axes>"
      ]
     },
     "metadata": {},
     "output_type": "display_data"
    }
   ],
   "source": [
    "\n",
    "le = LabelEncoder()\n",
    "\n",
    "# Select the columns you want to encode\n",
    "cols = ['Age', 'Education','Country','Gender','Ethnicity']\n",
    "\n",
    "# Apply the encoding to multiple columns\n",
    "df_drugs[cols] = df_drugs[cols].apply(lambda col: le.fit_transform(col))\n",
    "\n",
    "\n",
    "corr = df_drugs.corr()\n",
    "\n",
    "# Plot the heatmap\n",
    "sns.heatmap(corr)\n",
    "\n",
    "# Show the plot\n",
    "plt.show()"
   ]
  },
  {
   "cell_type": "markdown",
   "id": "b28f6f0a",
   "metadata": {},
   "source": [
    "Indirect correlation between age and most of drugs whereas direct correlation appears between gender, and most of the drugs. C Score looks to have a slight negative correlation with the drugs. Rest of the personality attributes have a 0 to low positive correlation with the drugs."
   ]
  }
 ],
 "metadata": {
  "kernelspec": {
   "display_name": "Python 3 (ipykernel)",
   "language": "python",
   "name": "python3"
  },
  "language_info": {
   "codemirror_mode": {
    "name": "ipython",
    "version": 3
   },
   "file_extension": ".py",
   "mimetype": "text/x-python",
   "name": "python",
   "nbconvert_exporter": "python",
   "pygments_lexer": "ipython3",
   "version": "3.9.12"
  }
 },
 "nbformat": 4,
 "nbformat_minor": 5
}
